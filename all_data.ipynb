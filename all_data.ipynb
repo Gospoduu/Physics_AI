{
 "cells": [
  {
   "metadata": {},
   "cell_type": "markdown",
   "source": "",
   "id": "5a23241b0450e5c1"
  },
  {
   "metadata": {},
   "cell_type": "code",
   "outputs": [],
   "execution_count": null,
   "source": [
    "import pandas as pd\n",
    "import numpy as np\n",
    "import os\n",
    "import json\n",
    "\n",
    "periodic_table = pd.read_csv(r\"/Users/tema/PycharmProjects/Physics_AI/data/Periodic Table of Elements.csv\")\n",
    "periodic_table"
   ],
   "id": "78d6f85709908d55"
  },
  {

   "metadata": {
    "jupyter": {
     "is_executing": true
    }
   },
   "cell_type": "code",

   "metadata": {},
   "cell_type": "code",
   "outputs": [],
   "execution_count": null,

   "source": [
    "dir_path = r\"/Users/tema/PycharmProjects/Physics_AI/data/chi\"\n",
    "dict_data = {}\n",
    "for i in os.listdir(dir_path):\n",
    "    with open(dir_path + \"/\" + i, 'r') as f:\n",
    "        symb = i.split(\".\")[0]\n",
    "        symb = symb[0].upper() + symb[1:].lower()\n",
    "        data = json.load(f)\n",
    "        dict_data[symb] = str(data)\n",
    "        print(symb)\n",
    "\n",
    "\n"
   ],

   "id": "7415bbc17a950bbd",
   "outputs": [],
   "execution_count": null
  },
  {
   "metadata": {
    "jupyter": {
     "is_executing": true
    }
   },
   "cell_type": "code",

   "id": "7415bbc17a950bbd"
  },
  {
   "metadata": {},
   "cell_type": "code",
   "outputs": [],
   "execution_count": null,

   "source": [
    "dict_data\n",
    "pd.DataFrame.from_dict(dict_data, orient='index').to_csv(r\"/Users/tema/PycharmProjects/Physics_AI/data/chi.csv\")"
   ],

   "id": "37d89cc130410ef5",
   "outputs": [],
   "execution_count": null

   "id": "37d89cc130410ef5"

  },
  {
   "metadata": {},
   "cell_type": "code",
   "outputs": [],
   "execution_count": null,
   "source": [
    "chi = pd.read_csv(r\"/Users/tema/PycharmProjects/Physics_AI/data/chi.csv\")\n",
    "chi"
   ],
   "id": "d8c349fa3a7c3348"
  },
  {
   "metadata": {},
   "cell_type": "code",
   "outputs": [],
   "execution_count": null,
   "source": [
    "periodic_table[\"Chi\"] = pd.Series([None] * len(periodic_table), dtype=\"string\")\n",
    "for _,i in chi.iterrows():\n",
    "    print(i[\"Unnamed: 0\"], i[\"0\"])\n",
    "    mask = periodic_table[\"Symbol\"] == i[\"Unnamed: 0\"]\n",
    "    periodic_table.loc[mask, \"Chi\"] = i[\"0\"]\n"
   ],
   "id": "b6093122e4195922"
  },
  {
   "metadata": {},
   "cell_type": "code",
   "outputs": [],
   "execution_count": null,
   "source": "periodic_table.to_csv(\"/Users/tema/PycharmProjects/Physics_AI/data/updated_periodic_table.csv\")",
   "id": "879ec08437e194b"
  }
 ],
 "metadata": {
  "kernelspec": {
   "display_name": ".venv",
   "language": "python",
   "name": "python3"
  },
  "language_info": {
   "codemirror_mode": {
    "name": "ipython",
    "version": 3
   },
   "file_extension": ".py",
   "mimetype": "text/x-python",
   "name": "python",
   "nbconvert_exporter": "python",
   "pygments_lexer": "ipython3",
   "version": "3.13.7"
  }
 },
 "nbformat": 4,
 "nbformat_minor": 5
}
