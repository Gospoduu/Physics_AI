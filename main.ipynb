{
 "cells": [
  {
   "cell_type": "code",
   "id": "fce93def",
   "metadata": {
    "ExecuteTime": {
     "end_time": "2025-10-29T12:53:30.750656Z",
     "start_time": "2025-10-29T12:53:30.746842Z"
    }
   },
   "source": [
    "# import\n",
    "import pandas as pd\n",
    "import numpy as np\n",
    "import json\n",
    "from utils import min_mse\n",
    "import plotly.express as px\n",
    "import os\n"
   ],
   "outputs": [],
   "execution_count": 11
  },
  {
   "cell_type": "code",
   "id": "0dcbfa7e",
   "metadata": {
    "ExecuteTime": {
     "end_time": "2025-10-29T12:53:30.759208Z",
     "start_time": "2025-10-29T12:53:30.756401Z"
    }
   },
   "source": [
    "# constants\n",
    "\n",
    "ALPHA = 1/137\n",
    "PI = np.pi\n",
    "\n",
    "m_p_n = 1.67 * (10**-24)\n"
   ],
   "outputs": [],
   "execution_count": 12
  },
  {
   "cell_type": "code",
   "id": "2c391f4d",
   "metadata": {
    "ExecuteTime": {
     "end_time": "2025-10-29T12:53:30.767554Z",
     "start_time": "2025-10-29T12:53:30.765027Z"
    }
   },
   "source": [
    "# input data\n",
    "element = \"C\" # choose any\n",
    "EeV = 6000"
   ],
   "outputs": [],
   "execution_count": 13
  },
  {
   "metadata": {},
   "cell_type": "markdown",
   "source": "",
   "id": "57164a31aa022703"
  },
  {
   "cell_type": "code",
   "id": "e5eee4e3",
   "metadata": {
    "ExecuteTime": {
     "end_time": "2025-10-29T12:53:30.786900Z",
     "start_time": "2025-10-29T12:53:30.777095Z"
    }
   },
   "source": [
    "# data from element\n",
    "path = \"data/updated_periodic_table.csv\"\n",
    "print(path)\n",
    "periodic_table = pd.read_csv(path, usecols=[1, 3, 4, 20, 29])\n",
    "\n",
    "periodic_table.columns = [\"Z\", \"Symbol\", \"N\", \"ro\", \"chi\"]\n",
    "periodic_table.columns\n",
    "data = periodic_table[periodic_table[\"Symbol\"] == element]"
   ],
   "outputs": [
    {
     "name": "stdout",
     "output_type": "stream",
     "text": [
      "data/updated_periodic_table.csv\n"
     ]
    }
   ],
   "execution_count": 14
  },
  {
   "cell_type": "code",
   "id": "a64de580",
   "metadata": {
    "ExecuteTime": {
     "end_time": "2025-10-29T12:53:30.797160Z",
     "start_time": "2025-10-29T12:53:30.794037Z"
    }
   },
   "source": [
    "# vars\n",
    "Z = data[\"Z\"].iloc[0]\n",
    "N = data[\"N\"].iloc[0]\n",
    "ro = data[\"ro\"].iloc[0]\n",
    "chi = data[\"chi\"].iloc[0]\n",
    "print(\"Z =\", Z, \"N =\", N, \"ro =\", ro,\"chi =\", chi)"
   ],
   "outputs": [
    {
     "name": "stdout",
     "output_type": "stream",
     "text": [
      "Z = 6 N = 12.011 ro = 2.27 chi = {'10.0': {'f1': -9999.0, 'f2': 0.806885}, '10.1617': {'f1': -9999.0, 'f2': 0.851522}, '10.3261': {'f1': -9999.0, 'f2': 0.898628}, '10.4931': {'f1': -9999.0, 'f2': 0.948341}, '10.6628': {'f1': -9999.0, 'f2': 1.0008}, '10.8353': {'f1': -9999.0, 'f2': 1.05755}, '11.0106': {'f1': -9999.0, 'f2': 1.12167}, '11.1886': {'f1': -9999.0, 'f2': 1.18968}, '11.3696': {'f1': -9999.0, 'f2': 1.26181}, '11.5535': {'f1': -9999.0, 'f2': 1.33832}, '11.7404': {'f1': -9999.0, 'f2': 1.41946}, '11.9303': {'f1': -9999.0, 'f2': 1.50553}, '12.1232': {'f1': -9999.0, 'f2': 1.58971}, '12.3193': {'f1': -9999.0, 'f2': 1.6782}, '12.5186': {'f1': -9999.0, 'f2': 1.77161}, '12.721': {'f1': -9999.0, 'f2': 1.87023}, '12.9268': {'f1': -9999.0, 'f2': 1.97433}, '13.1359': {'f1': -9999.0, 'f2': 2.08423}, '13.3483': {'f1': -9999.0, 'f2': 2.20025}, '13.5642': {'f1': -9999.0, 'f2': 2.29235}, '13.7836': {'f1': -9999.0, 'f2': 2.38287}, '14.0066': {'f1': -9999.0, 'f2': 2.47696}, '14.2331': {'f1': -9999.0, 'f2': 2.57477}, '14.4633': {'f1': -9999.0, 'f2': 2.67645}, '14.6973': {'f1': -9999.0, 'f2': 2.77114}, '14.935': {'f1': -9999.0, 'f2': 2.84605}, '15.1765': {'f1': -9999.0, 'f2': 2.92298}, '15.422': {'f1': -9999.0, 'f2': 3.00199}, '15.6714': {'f1': -9999.0, 'f2': 3.08313}, '15.9249': {'f1': -9999.0, 'f2': 3.16647}, '16.1825': {'f1': -9999.0, 'f2': 3.24213}, '16.4442': {'f1': -9999.0, 'f2': 3.28778}, '16.7102': {'f1': -9999.0, 'f2': 3.33408}, '16.9805': {'f1': -9999.0, 'f2': 3.38103}, '17.2551': {'f1': -9999.0, 'f2': 3.42863}, '17.5342': {'f1': -9999.0, 'f2': 3.47691}, '17.8178': {'f1': -9999.0, 'f2': 3.52041}, '18.106': {'f1': -9999.0, 'f2': 3.54277}, '18.3989': {'f1': -9999.0, 'f2': 3.56528}, '18.6964': {'f1': -9999.0, 'f2': 3.58793}, '18.9988': {'f1': -9999.0, 'f2': 3.61072}, '19.3061': {'f1': -9999.0, 'f2': 3.63366}, '19.6184': {'f1': -9999.0, 'f2': 3.65674}, '19.9357': {'f1': -9999.0, 'f2': 3.67997}, '20.2582': {'f1': -9999.0, 'f2': 3.70335}, '20.5858': {'f1': -9999.0, 'f2': 3.69489}, '20.9188': {'f1': -9999.0, 'f2': 3.67204}, '21.2571': {'f1': -9999.0, 'f2': 3.64934}, '21.6009': {'f1': -9999.0, 'f2': 3.62677}, '21.9503': {'f1': -9999.0, 'f2': 3.60434}, '22.3053': {'f1': -9999.0, 'f2': 3.58205}, '22.6661': {'f1': -9999.0, 'f2': 3.5599}, '23.0327': {'f1': -9999.0, 'f2': 3.5332}, '23.4053': {'f1': -9999.0, 'f2': 3.47892}, '23.7838': {'f1': -9999.0, 'f2': 3.42547}, '24.1685': {'f1': -9999.0, 'f2': 3.37285}, '24.5594': {'f1': -9999.0, 'f2': 3.32103}, '24.9566': {'f1': -9999.0, 'f2': 3.27}, '25.3603': {'f1': -9999.0, 'f2': 3.21977}, '25.7705': {'f1': -9999.0, 'f2': 3.1703}, '26.1873': {'f1': -9999.0, 'f2': 3.12096}, '26.6109': {'f1': -9999.0, 'f2': 3.0635}, '27.0413': {'f1': -9999.0, 'f2': 3.00708}, '27.4786': {'f1': -9999.0, 'f2': 2.95171}, '27.9231': {'f1': -9999.0, 'f2': 2.89736}, '28.3747': {'f1': -9999.0, 'f2': 2.84401}, '28.8337': {'f1': -9999.0, 'f2': 2.79164}, '29.3': {'f1': 3.63318, 'f2': 2.74024}, '29.7739': {'f1': 3.67378, 'f2': 2.68978}, '30.2555': {'f1': 3.7127, 'f2': 2.63618}, '30.7449': {'f1': 3.74753, 'f2': 2.5836}, '31.2421': {'f1': 3.77973, 'f2': 2.53206}, '31.7475': {'f1': 3.80969, 'f2': 2.48155}, '32.2609': {'f1': 3.83764, 'f2': 2.43205}, '32.7827': {'f1': 3.86374, 'f2': 2.38354}, '33.313': {'f1': 3.88807, 'f2': 2.33599}, '33.8518': {'f1': 3.91071, 'f2': 2.2894}, '34.3993': {'f1': 3.93156, 'f2': 2.24373}, '34.9557': {'f1': 3.95026, 'f2': 2.19898}, '35.5211': {'f1': 3.96709, 'f2': 2.15799}, '36.0956': {'f1': 3.98488, 'f2': 2.11827}, '36.6794': {'f1': 4.00253, 'f2': 2.07928}, '37.2727': {'f1': 4.01992, 'f2': 2.04101}, '37.8755': {'f1': 4.03712, 'f2': 2.00344}, '38.4882': {'f1': 4.05432, 'f2': 1.96657}, '39.1107': {'f1': 4.0736, 'f2': 1.93037}, '39.7432': {'f1': 4.09449, 'f2': 1.89011}, '40.3861': {'f1': 4.1101, 'f2': 1.8465}, '41.0393': {'f1': 4.12229, 'f2': 1.8039}, '41.7031': {'f1': 4.13211, 'f2': 1.76228}, '42.3776': {'f1': 4.13985, 'f2': 1.72163}, '43.063': {'f1': 4.14559, 'f2': 1.68191}, '43.7595': {'f1': 4.14925, 'f2': 1.6431}, '44.4673': {'f1': 4.14955, 'f2': 1.6052}, '45.1865': {'f1': 4.14584, 'f2': 1.56917}, '45.9174': {'f1': 4.14175, 'f2': 1.54376}, '46.66': {'f1': 4.14174, 'f2': 1.51876}, '47.4147': {'f1': 4.143, 'f2': 1.49417}, '48.1816': {'f1': 4.14486, 'f2': 1.46998}, '48.9609': {'f1': 4.14698, 'f2': 1.44618}, '49.7528': {'f1': 4.14913, 'f2': 1.42276}, '50.5576': {'f1': 4.15113, 'f2': 1.39972}, '51.3753': {'f1': 4.15277, 'f2': 1.37705}, '52.2062': {'f1': 4.15371, 'f2': 1.35475}, '53.0506': {'f1': 4.15307, 'f2': 1.33282}, '53.9087': {'f1': 4.1496, 'f2': 1.31546}, '54.7806': {'f1': 4.14997, 'f2': 1.30168}, '55.6667': {'f1': 4.1527, 'f2': 1.28804}, '56.567': {'f1': 4.15681, 'f2': 1.27454}, '57.482': {'f1': 4.16209, 'f2': 1.26118}, '58.4117': {'f1': 4.16851, 'f2': 1.24797}, '59.3564': {'f1': 4.17625, 'f2': 1.23489}, '60.3165': {'f1': 4.186, 'f2': 1.22195}, '61.2921': {'f1': 4.19949, 'f2': 1.20654}, '62.2834': {'f1': 4.21096, 'f2': 1.18498}, '63.2908': {'f1': 4.2191, 'f2': 1.16381}, '64.3145': {'f1': 4.22582, 'f2': 1.14301}, '65.3547': {'f1': 4.23161, 'f2': 1.12258}, '66.4118': {'f1': 4.23666, 'f2': 1.10252}, '67.4859': {'f1': 4.24111, 'f2': 1.08282}, '68.5775': {'f1': 4.24504, 'f2': 1.06347}, '69.6867': {'f1': 4.24852, 'f2': 1.04447}, '70.8138': {'f1': 4.2516, 'f2': 1.0258}, '71.9591': {'f1': 4.2543, 'f2': 1.00747}, '73.123': {'f1': 4.25667, 'f2': 0.98947}, '74.3057': {'f1': 4.25872, 'f2': 0.971788}, '75.5076': {'f1': 4.26047, 'f2': 0.954423}, '76.7289': {'f1': 4.26194, 'f2': 0.937369}, '77.9699': {'f1': 4.26314, 'f2': 0.920617}, '79.231': {'f1': 4.26408, 'f2': 0.904167}, '80.5125': {'f1': 4.26478, 'f2': 0.888009}, '81.8147': {'f1': 4.26524, 'f2': 0.872141}, '83.138': {'f1': 4.26546, 'f2': 0.856556}, '84.4827': {'f1': 4.26547, 'f2': 0.84125}, '85.8491': {'f1': 4.26525, 'f2': 0.826217}, '87.2377': {'f1': 4.26481, 'f2': 0.811453}, '88.6487': {'f1': 4.26417, 'f2': 0.796952}, '90.0825': {'f1': 4.26332, 'f2': 0.782711}, '91.5395': {'f1': 4.26226, 'f2': 0.768724}, '93.0201': {'f1': 4.261, 'f2': 0.754987}, '94.5246': {'f1': 4.25953, 'f2': 0.741496}, '96.0535': {'f1': 4.25787, 'f2': 0.728246}, '97.6071': {'f1': 4.256, 'f2': 0.715232}, '99.1858': {'f1': 4.25393, 'f2': 0.702451}, '100.79': {'f1': 4.25166, 'f2': 0.689898}, '102.42': {'f1': 4.24919, 'f2': 0.67757}, '104.077': {'f1': 4.24651, 'f2': 0.665462}, '105.76': {'f1': 4.24363, 'f2': 0.65357}, '107.471': {'f1': 4.24054, 'f2': 0.641891}, '109.209': {'f1': 4.23724, 'f2': 0.630421}, '110.975': {'f1': 4.23373, 'f2': 0.619156}, '112.77': {'f1': 4.23, 'f2': 0.608091}, '114.594': {'f1': 4.22606, 'f2': 0.597224}, '116.448': {'f1': 4.22189, 'f2': 0.586552}, '118.331': {'f1': 4.21751, 'f2': 0.576071}, '120.245': {'f1': 4.21289, 'f2': 0.565777}, '122.19': {'f1': 4.20806, 'f2': 0.555666}, '124.166': {'f1': 4.20299, 'f2': 0.545737}, '126.175': {'f1': 4.19772, 'f2': 0.535985}, '128.215': {'f1': 4.19225, 'f2': 0.526406}, '130.289': {'f1': 4.18666, 'f2': 0.517}, '132.397': {'f1': 4.18122, 'f2': 0.507761}, '134.538': {'f1': 4.17533, 'f2': 0.497457}, '136.714': {'f1': 4.1686, 'f2': 0.487361}, '138.925': {'f1': 4.16122, 'f2': 0.477469}, '141.172': {'f1': 4.15329, 'f2': 0.467777}, '143.456': {'f1': 4.14484, 'f2': 0.458283}, '145.776': {'f1': 4.13587, 'f2': 0.448981}, '148.134': {'f1': 4.12638, 'f2': 0.439868}, '150.53': {'f1': 4.11636, 'f2': 0.430941}, '152.964': {'f1': 4.10578, 'f2': 0.422193}, '155.439': {'f1': 4.09464, 'f2': 0.413624}, '157.953': {'f1': 4.0829, 'f2': 0.405229}, '160.507': {'f1': 4.07054, 'f2': 0.397004}, '163.103': {'f1': 4.05754, 'f2': 0.388946}, '165.742': {'f1': 4.04385, 'f2': 0.381052}, '168.422': {'f1': 4.02945, 'f2': 0.373318}, '171.146': {'f1': 4.01429, 'f2': 0.365741}, '173.915': {'f1': 3.99834, 'f2': 0.358317}, '176.727': {'f1': 3.98158, 'f2': 0.351045}, '179.586': {'f1': 3.96398, 'f2': 0.343919}, '182.491': {'f1': 3.94558, 'f2': 0.336939}, '185.442': {'f1': 3.92716, 'f2': 0.3301}, '188.442': {'f1': 3.90705, 'f2': 0.320995}, '191.489': {'f1': 3.88443, 'f2': 0.312096}, '194.587': {'f1': 3.85977, 'f2': 0.303443}, '197.734': {'f1': 3.83308, 'f2': 0.295031}, '200.932': {'f1': 3.80428, 'f2': 0.286851}, '204.182': {'f1': 3.77323, 'f2': 0.278898}, '207.485': {'f1': 3.73972, 'f2': 0.271166}, '210.84': {'f1': 3.70351, 'f2': 0.263648}, '214.251': {'f1': 3.66428, 'f2': 0.256338}, '217.716': {'f1': 3.62164, 'f2': 0.249231}, '221.237': {'f1': 3.57499, 'f2': 0.242516}, '224.816': {'f1': 3.52435, 'f2': 0.236381}, '228.452': {'f1': 3.46902, 'f2': 0.230402}, '232.147': {'f1': 3.40812, 'f2': 0.224573}, '235.902': {'f1': 3.34061, 'f2': 0.218892}, '239.717': {'f1': 3.26522, 'f2': 0.213355}, '243.595': {'f1': 3.18027, 'f2': 0.207958}, '247.535': {'f1': 3.08474, 'f2': 0.202179}, '251.538': {'f1': 2.97293, 'f2': 0.194683}, '255.607': {'f1': 2.84002, 'f2': 0.187465}, '259.741': {'f1': 2.67985, 'f2': 0.180514}, '263.942': {'f1': 2.48138, 'f2': 0.173821}, '268.211': {'f1': 2.22505, 'f2': 0.167377}, '272.549': {'f1': 1.87159, 'f2': 0.161171}, '276.957': {'f1': 1.32192, 'f2': 0.155195}, '281.437': {'f1': 0.158573, 'f2': 0.149441}, '284.1': {'f1': -4.04882, 'f2': 0.146163}, '284.3': {'f1': -4.04031, 'f2': 4.18872}, '285.989': {'f1': -0.28333, 'f2': 4.15857}, '290.615': {'f1': 1.43967, 'f2': 4.07798}, '295.315': {'f1': 2.20576, 'f2': 3.99896}, '300.092': {'f1': 2.71286, 'f2': 3.92146}, '304.945': {'f1': 3.09475, 'f2': 3.84546}, '309.878': {'f1': 3.40186, 'f2': 3.77095}, '314.89': {'f1': 3.65884, 'f2': 3.69787}, '319.983': {'f1': 3.87969, 'f2': 3.6262}, '325.158': {'f1': 4.07315, 'f2': 3.55593}, '330.418': {'f1': 4.2451, 'f2': 3.48703}, '335.762': {'f1': 4.39967, 'f2': 3.41945}, '341.192': {'f1': 4.53993, 'f2': 3.35318}, '346.711': {'f1': 4.66823, 'f2': 3.2882}, '352.319': {'f1': 4.78642, 'f2': 3.22448}, '358.017': {'f1': 4.89606, 'f2': 3.162}, '363.808': {'f1': 4.99852, 'f2': 3.10072}, '369.692': {'f1': 5.09524, 'f2': 3.04063}, '375.672': {'f1': 5.1891, 'f2': 2.9817}, '381.748': {'f1': 5.27926, 'f2': 2.91649}, '387.922': {'f1': 5.36049, 'f2': 2.84817}, '394.197': {'f1': 5.43267, 'f2': 2.78144}, '400.573': {'f1': 5.49897, 'f2': 2.71628}, '407.052': {'f1': 5.5601, 'f2': 2.65264}, '413.635': {'f1': 5.61669, 'f2': 2.5905}, '420.326': {'f1': 5.6692, 'f2': 2.52981}, '427.124': {'f1': 5.71803, 'f2': 2.47054}, '434.032': {'f1': 5.76351, 'f2': 2.41266}, '441.052': {'f1': 5.80593, 'f2': 2.35614}, '448.186': {'f1': 5.84557, 'f2': 2.30094}, '455.435': {'f1': 5.88264, 'f2': 2.24703}, '462.802': {'f1': 5.91737, 'f2': 2.19439}, '470.287': {'f1': 5.94998, 'f2': 2.14298}, '477.894': {'f1': 5.98074, 'f2': 2.09278}, '485.623': {'f1': 6.01022, 'f2': 2.04367}, '493.478': {'f1': 6.03767, 'f2': 1.99418}, '501.459': {'f1': 6.06268, 'f2': 1.94589}, '509.57': {'f1': 6.08579, 'f2': 1.89876}, '517.812': {'f1': 6.10721, 'f2': 1.85278}, '526.187': {'f1': 6.12709, 'f2': 1.80791}, '534.698': {'f1': 6.14556, 'f2': 1.76412}, '543.346': {'f1': 6.16271, 'f2': 1.7214}, '552.134': {'f1': 6.17864, 'f2': 1.67971}, '561.065': {'f1': 6.19344, 'f2': 1.63903}, '570.139': {'f1': 6.20717, 'f2': 1.59933}, '579.361': {'f1': 6.21992, 'f2': 1.5606}, '588.732': {'f1': 6.23174, 'f2': 1.52281}, '598.254': {'f1': 6.24271, 'f2': 1.48593}, '607.93': {'f1': 6.25287, 'f2': 1.44994}, '617.763': {'f1': 6.26227, 'f2': 1.41483}, '627.755': {'f1': 6.27097, 'f2': 1.38056}, '637.908': {'f1': 6.279, 'f2': 1.34713}, '648.226': {'f1': 6.28639, 'f2': 1.3145}, '658.711': {'f1': 6.29312, 'f2': 1.28267}, '669.365': {'f1': 6.29901, 'f2': 1.2516}, '680.191': {'f1': 6.30406, 'f2': 1.22249}, '691.193': {'f1': 6.30972, 'f2': 1.19523}, '702.372': {'f1': 6.31822, 'f2': 1.16897}, '713.733': {'f1': 6.32783, 'f2': 1.13958}, '725.277': {'f1': 6.33449, 'f2': 1.10844}, '737.008': {'f1': 6.33933, 'f2': 1.07816}, '748.928': {'f1': 6.34306, 'f2': 1.04871}, '761.042': {'f1': 6.34594, 'f2': 1.02006}, '773.351': {'f1': 6.34813, 'f2': 0.992182}, '785.859': {'f1': 6.34973, 'f2': 0.965046}, '798.57': {'f1': 6.3508, 'f2': 0.938635}, '811.486': {'f1': 6.3514, 'f2': 0.912939}, '824.611': {'f1': 6.3516, 'f2': 0.887954}, '837.949': {'f1': 6.35148, 'f2': 0.863661}, '851.502': {'f1': 6.35111, 'f2': 0.839923}, '865.274': {'f1': 6.35042, 'f2': 0.816714}, '879.269': {'f1': 6.34934, 'f2': 0.794041}, '893.491': {'f1': 6.34793, 'f2': 0.772006}, '907.943': {'f1': 6.34628, 'f2': 0.750584}, '922.628': {'f1': 6.34445, 'f2': 0.729761}, '937.551': {'f1': 6.34244, 'f2': 0.709358}, '952.715': {'f1': 6.34016, 'f2': 0.6895}, '968.124': {'f1': 6.33768, 'f2': 0.670177}, '983.783': {'f1': 6.33503, 'f2': 0.651378}, '999.695': {'f1': 6.33222, 'f2': 0.633116}, '1015.86': {'f1': 6.3293, 'f2': 0.615377}, '1032.29': {'f1': 6.32643, 'f2': 0.598194}, '1048.99': {'f1': 6.32362, 'f2': 0.581226}, '1065.96': {'f1': 6.32048, 'f2': 0.564459}, '1083.2': {'f1': 6.3171, 'f2': 0.548198}, '1100.72': {'f1': 6.31359, 'f2': 0.532391}, '1118.52': {'f1': 6.30996, 'f2': 0.51702}, '1136.61': {'f1': 6.30622, 'f2': 0.502116}, '1155.0': {'f1': 6.30242, 'f2': 0.48764}, '1173.68': {'f1': 6.29857, 'f2': 0.473579}, '1192.66': {'f1': 6.29469, 'f2': 0.459933}, '1211.95': {'f1': 6.29081, 'f2': 0.446675}, '1231.55': {'f1': 6.28694, 'f2': 0.433794}, '1251.47': {'f1': 6.28313, 'f2': 0.421175}, '1271.72': {'f1': 6.27931, 'f2': 0.408804}, '1292.29': {'f1': 6.27534, 'f2': 0.396652}, '1313.19': {'f1': 6.27127, 'f2': 0.384872}, '1334.43': {'f1': 6.26716, 'f2': 0.373439}, '1356.01': {'f1': 6.26302, 'f2': 0.362342}, '1377.94': {'f1': 6.25886, 'f2': 0.351578}, '1400.23': {'f1': 6.25469, 'f2': 0.341132}, '1422.88': {'f1': 6.25054, 'f2': 0.330994}, '1445.89': {'f1': 6.2464, 'f2': 0.321159}, '1469.28': {'f1': 6.2423, 'f2': 0.311605}, '1493.04': {'f1': 6.23822, 'f2': 0.302316}, '1517.19': {'f1': 6.23418, 'f2': 0.29323}, '1541.73': {'f1': 6.2301, 'f2': 0.284407}, '1566.67': {'f1': 6.22604, 'f2': 0.275847}, '1592.01': {'f1': 6.222, 'f2': 0.267545}, '1617.76': {'f1': 6.21798, 'f2': 0.259493}, '1643.92': {'f1': 6.214, 'f2': 0.251684}, '1670.51': {'f1': 6.21005, 'f2': 0.24411}, '1697.53': {'f1': 6.20616, 'f2': 0.236764}, '1724.99': {'f1': 6.20233, 'f2': 0.229642}, '1752.89': {'f1': 6.19857, 'f2': 0.222665}, '1781.24': {'f1': 6.1948, 'f2': 0.215877}, '1810.05': {'f1': 6.19106, 'f2': 0.209279}, '1839.32': {'f1': 6.18734, 'f2': 0.202884}, '1869.07': {'f1': 6.18366, 'f2': 0.196685}, '1899.3': {'f1': 6.18003, 'f2': 0.190676}, '1930.02': {'f1': 6.17643, 'f2': 0.18485}, '1961.24': {'f1': 6.17288, 'f2': 0.179202}, '1992.96': {'f1': 6.16938, 'f2': 0.173726}, '2025.2': {'f1': 6.16594, 'f2': 0.168474}, '2057.95': {'f1': 6.16261, 'f2': 0.163292}, '2091.24': {'f1': 6.15928, 'f2': 0.158263}, '2125.06': {'f1': 6.156, 'f2': 0.153384}, '2159.43': {'f1': 6.15276, 'f2': 0.148648}, '2194.36': {'f1': 6.14957, 'f2': 0.144053}, '2229.85': {'f1': 6.14643, 'f2': 0.139593}, '2265.92': {'f1': 6.14334, 'f2': 0.135267}, '2302.57': {'f1': 6.14028, 'f2': 0.131069}, '2339.81': {'f1': 6.13729, 'f2': 0.126998}, '2377.66': {'f1': 6.13433, 'f2': 0.123042}, '2416.11': {'f1': 6.13143, 'f2': 0.11921}, '2455.19': {'f1': 6.12857, 'f2': 0.115492}, '2494.9': {'f1': 6.12576, 'f2': 0.111882}, '2535.26': {'f1': 6.123, 'f2': 0.108383}, '2576.26': {'f1': 6.12028, 'f2': 0.10499}, '2617.93': {'f1': 6.11762, 'f2': 0.101694}, '2660.27': {'f1': 6.115, 'f2': 0.0985042}, '2703.3': {'f1': 6.11243, 'f2': 0.0954028}, '2747.03': {'f1': 6.1099, 'f2': 0.0923971}, '2791.46': {'f1': 6.10742, 'f2': 0.0894832}, '2836.61': {'f1': 6.10498, 'f2': 0.0866617}, '2882.49': {'f1': 6.10259, 'f2': 0.0839148}, '2929.11': {'f1': 6.10024, 'f2': 0.0812599}, '2976.48': {'f1': 6.09794, 'f2': 0.0786821}, '3024.63': {'f1': 6.09569, 'f2': 0.0761825}, '3073.55': {'f1': 6.09347, 'f2': 0.0737584}, '3123.26': {'f1': 6.0913, 'f2': 0.071408}, '3173.78': {'f1': 6.08917, 'f2': 0.0691288}, '3225.11': {'f1': 6.08708, 'f2': 0.0669194}, '3277.27': {'f1': 6.08503, 'f2': 0.0647767}, '3330.28': {'f1': 6.08302, 'f2': 0.0626991}, '3384.15': {'f1': 6.08105, 'f2': 0.0606853}, '3438.88': {'f1': 6.07912, 'f2': 0.0587327}, '3494.5': {'f1': 6.07723, 'f2': 0.0568396}, '3551.02': {'f1': 6.07538, 'f2': 0.0550042}, '3608.46': {'f1': 6.07357, 'f2': 0.0532244}, '3666.82': {'f1': 6.07179, 'f2': 0.0514997}, '3726.13': {'f1': 6.07005, 'f2': 0.0498278}, '3786.4': {'f1': 6.06834, 'f2': 0.0482071}, '3847.64': {'f1': 6.06667, 'f2': 0.0466352}, '3909.87': {'f1': 6.06504, 'f2': 0.0451127}, '3973.11': {'f1': 6.06343, 'f2': 0.0436367}, '4037.38': {'f1': 6.06186, 'f2': 0.0422212}, '4102.68': {'f1': 6.06033, 'f2': 0.0408351}, '4169.03': {'f1': 6.05883, 'f2': 0.0394919}, '4236.46': {'f1': 6.05736, 'f2': 0.0381921}, '4304.98': {'f1': 6.05592, 'f2': 0.0369324}, '4374.62': {'f1': 6.05451, 'f2': 0.035713}, '4445.37': {'f1': 6.05313, 'f2': 0.0345329}, '4517.27': {'f1': 6.05178, 'f2': 0.0333896}, '4590.33': {'f1': 6.05046, 'f2': 0.0322825}, '4664.58': {'f1': 6.04917, 'f2': 0.03121}, '4740.03': {'f1': 6.04791, 'f2': 0.0301723}, '4816.69': {'f1': 6.04667, 'f2': 0.0291678}, '4894.6': {'f1': 6.04547, 'f2': 0.0281953}, '4973.77': {'f1': 6.04429, 'f2': 0.0272539}, '5054.21': {'f1': 6.04313, 'f2': 0.0263428}, '5135.96': {'f1': 6.042, 'f2': 0.0254606}, '5219.03': {'f1': 6.0409, 'f2': 0.0246074}, '5303.44': {'f1': 6.03983, 'f2': 0.023781}, '5389.22': {'f1': 6.03877, 'f2': 0.0229809}, '5476.39': {'f1': 6.03774, 'f2': 0.0222063}, '5564.97': {'f1': 6.03674, 'f2': 0.0214569}, '5654.98': {'f1': 6.03576, 'f2': 0.0207329}, '5746.44': {'f1': 6.0348, 'f2': 0.0200314}, '5839.39': {'f1': 6.03386, 'f2': 0.0193522}, '5933.83': {'f1': 6.03295, 'f2': 0.0186948}, '6029.81': {'f1': 6.03205, 'f2': 0.0180595}, '6127.33': {'f1': 6.03118, 'f2': 0.0174453}, '6226.44': {'f1': 6.03033, 'f2': 0.0168501}, '6327.15': {'f1': 6.0295, 'f2': 0.0162746}, '6429.48': {'f1': 6.02869, 'f2': 0.015718}, '6533.48': {'f1': 6.02789, 'f2': 0.0151795}, '6639.15': {'f1': 6.02712, 'f2': 0.0146587}, '6746.54': {'f1': 6.02637, 'f2': 0.0141549}, '6855.65': {'f1': 6.02563, 'f2': 0.0136678}, '6966.54': {'f1': 6.02491, 'f2': 0.0131966}, '7079.22': {'f1': 6.02421, 'f2': 0.0127407}, '7193.72': {'f1': 6.02352, 'f2': 0.0123}, '7310.07': {'f1': 6.02285, 'f2': 0.0118738}, '7428.31': {'f1': 6.0222, 'f2': 0.0114619}, '7548.45': {'f1': 6.02156, 'f2': 0.0110634}, '7670.54': {'f1': 6.02094, 'f2': 0.0106782}, '7794.61': {'f1': 6.02034, 'f2': 0.0103059}, '7920.68': {'f1': 6.01975, 'f2': 0.00994583}, '8048.79': {'f1': 6.01917, 'f2': 0.00959775}, '8178.98': {'f1': 6.01861, 'f2': 0.00926134}, '8311.26': {'f1': 6.01806, 'f2': 0.00893624}, '8445.69': {'f1': 6.01753, 'f2': 0.0086219}, '8582.29': {'f1': 6.017, 'f2': 0.0083182}, '8721.11': {'f1': 6.0165, 'f2': 0.00802475}, '8862.16': {'f1': 6.016, 'f2': 0.00774104}, '9005.5': {'f1': 6.01552, 'f2': 0.00746686}, '9151.16': {'f1': 6.01505, 'f2': 0.00720204}, '9299.17': {'f1': 6.01459, 'f2': 0.00694614}, '9449.58': {'f1': 6.01414, 'f2': 0.00669902}, '9602.42': {'f1': 6.0137, 'f2': 0.00646026}, '9757.73': {'f1': 6.01328, 'f2': 0.00622938}, '9915.55': {'f1': 6.01286, 'f2': 0.00600659}, '10075.9': {'f1': 6.01246, 'f2': 0.00579136}, '10238.9': {'f1': 6.01206, 'f2': 0.0055835}, '10404.5': {'f1': 6.01168, 'f2': 0.00538276}, '10572.8': {'f1': 6.01131, 'f2': 0.00518891}, '10743.8': {'f1': 6.01094, 'f2': 0.00500173}, '10917.6': {'f1': 6.01059, 'f2': 0.00482101}, '11094.2': {'f1': 6.01024, 'f2': 0.00464654}, '11273.6': {'f1': 6.00991, 'f2': 0.0044781}, '11455.9': {'f1': 6.00958, 'f2': 0.00431552}, '11641.2': {'f1': 6.00926, 'f2': 0.00415859}, '11829.5': {'f1': 6.00895, 'f2': 0.00400712}, '12020.8': {'f1': 6.00864, 'f2': 0.00386096}, '12215.3': {'f1': 6.00835, 'f2': 0.00371991}, '12412.8': {'f1': 6.00806, 'f2': 0.00358382}, '12613.6': {'f1': 6.00778, 'f2': 0.00345251}, '12817.6': {'f1': 6.00751, 'f2': 0.00332584}, '13025.0': {'f1': 6.00724, 'f2': 0.00320365}, '13235.6': {'f1': 6.00698, 'f2': 0.0030858}, '13449.7': {'f1': 6.00673, 'f2': 0.00297213}, '13667.2': {'f1': 6.00648, 'f2': 0.00286252}, '13888.3': {'f1': 6.00625, 'f2': 0.00275683}, '14112.9': {'f1': 6.00601, 'f2': 0.00265492}, '14341.2': {'f1': 6.00579, 'f2': 0.00255668}, '14573.1': {'f1': 6.00557, 'f2': 0.00246198}, '14808.9': {'f1': 6.00535, 'f2': 0.00237071}, '15048.4': {'f1': 6.00514, 'f2': 0.00228275}, '15291.8': {'f1': 6.00494, 'f2': 0.00219799}, '15539.1': {'f1': 6.00474, 'f2': 0.00211632}, '15790.4': {'f1': 6.00455, 'f2': 0.00203764}, '16045.8': {'f1': 6.00436, 'f2': 0.00196186}, '16305.4': {'f1': 6.00418, 'f2': 0.00188887}, '16569.1': {'f1': 6.004, 'f2': 0.00181858}, '16837.1': {'f1': 6.00383, 'f2': 0.00175089}, '17109.4': {'f1': 6.00366, 'f2': 0.00168574}, '17386.1': {'f1': 6.0035, 'f2': 0.00162301}, '17667.4': {'f1': 6.00334, 'f2': 0.00156265}, '17953.1': {'f1': 6.00319, 'f2': 0.00150455}, '18243.5': {'f1': 6.00304, 'f2': 0.00144866}, '18538.6': {'f1': 6.00289, 'f2': 0.00139489}, '18838.4': {'f1': 6.00275, 'f2': 0.00134317}, '19143.1': {'f1': 6.00261, 'f2': 0.00129343}, '19452.7': {'f1': 6.00248, 'f2': 0.00124561}, '19767.4': {'f1': 6.00235, 'f2': 0.00119964}, '20087.1': {'f1': 6.00222, 'f2': 0.00116295}, '20412.0': {'f1': 6.00211, 'f2': 0.00111818}, '20742.1': {'f1': 6.00199, 'f2': 0.00107519}, '21077.6': {'f1': 6.00187, 'f2': 0.00103391}, '21418.5': {'f1': 6.00176, 'f2': 0.000994268}, '21765.0': {'f1': 6.00165, 'f2': 0.000956195}, '22117.0': {'f1': 6.00154, 'f2': 0.000919629}, '22474.7': {'f1': 6.00144, 'f2': 0.000884508}, '22838.2': {'f1': 6.00134, 'f2': 0.000850771}, '23207.6': {'f1': 6.00124, 'f2': 0.000818364}, '23583.0': {'f1': 6.00115, 'f2': 0.00078723}, '23964.4': {'f1': 6.00105, 'f2': 0.00075732}, '24352.0': {'f1': 6.00096, 'f2': 0.000728582}, '24745.9': {'f1': 6.00088, 'f2': 0.000700971}, '25146.2': {'f1': 6.00079, 'f2': 0.000674438}, '25552.9': {'f1': 6.00071, 'f2': 0.000648942}, '25966.2': {'f1': 6.00063, 'f2': 0.000624439}, '26386.1': {'f1': 6.00055, 'f2': 0.00060089}, '26812.9': {'f1': 6.00048, 'f2': 0.000578257}, '27246.6': {'f1': 6.0004, 'f2': 0.000556501}, '27687.3': {'f1': 6.00033, 'f2': 0.00053559}, '28135.1': {'f1': 6.00026, 'f2': 0.000515487}, '28590.2': {'f1': 6.0002, 'f2': 0.000496161}, '29052.6': {'f1': 6.00013, 'f2': 0.000477581}, '29522.5': {'f1': 6.00007, 'f2': 0.000459716}, '30000.0': {'f1': 6.0, 'f2': 0.00044254}}\n"
     ]
    }
   ],
   "execution_count": 15
  },
  {
   "metadata": {
    "ExecuteTime": {
     "end_time": "2025-10-29T12:53:30.818310Z",
     "start_time": "2025-10-29T12:53:30.815375Z"
    }
   },
   "cell_type": "code",
   "source": [
    "# ather vars\n",
    "m_e = 0.18 * (10**-24)\n",
    "m_a = (N * m_p_n + Z * m_e)\n",
    "n0_m = (ro / (5 * m_a))\n",
    "k_n0_m = (n0_m * 10**4) / 125\n",
    "om2 = ((4 * PI * Z) / 137) * k_n0_m\n",
    "print(\"m_e = \", m_e, \"m_a = \", m_a, \"n0_m = \", n0_m, \"k_n0_m = \", k_n0_m, \"om2 = \", om2)\n",
    "\n"
   ],
   "id": "2e7af5c2610ef5e2",
   "outputs": [
    {
     "name": "stdout",
     "output_type": "stream",
     "text": [
      "m_e =  1.7999999999999997e-25 m_a =  2.1138369999999994e-23 n0_m =  2.147753114360285e+22 k_n0_m =  1.718202491488228e+24 om2 =  9.456161736594038e+23\n"
     ]
    }
   ],
   "execution_count": 16
  },
  {
   "metadata": {
    "ExecuteTime": {
     "end_time": "2025-10-29T12:53:30.835351Z",
     "start_time": "2025-10-29T12:53:30.830329Z"
    }
   },
   "cell_type": "code",
   "source": [
    "# get chi from JSON\n",
    "chi_string = chi.replace(\"'\", '\"')\n",
    "chi_dct = json.loads(chi_string)\n",
    "dict_values = [float(i) for i in chi_dct]\n",
    "dict_values[:5]"
   ],
   "id": "757765edf3548f3a",
   "outputs": [
    {
     "data": {
      "text/plain": [
       "[10.0, 10.1617, 10.3261, 10.4931, 10.6628]"
      ]
     },
     "execution_count": 17,
     "metadata": {},
     "output_type": "execute_result"
    }
   ],
   "execution_count": 17
  },
  {
   "metadata": {
    "ExecuteTime": {
     "end_time": "2025-10-29T12:53:30.848086Z",
     "start_time": "2025-10-29T12:53:30.845591Z"
    }
   },
   "cell_type": "code",
   "source": [
    "# vars\n",
    "EeV_s = min_mse(EeV, dict_values)\n",
    "omega = EeV_s * 10**5 /2\n",
    "omega0 = (om2**0.5) * 10**5 /2\n",
    "\n",
    "f1, f2 = chi_dct[str(EeV_s)].values()\n",
    "X1 = (-f1/Z )* (omega0/omega)**2"
   ],
   "id": "433a9f706f10f59",
   "outputs": [],
   "execution_count": 18
  },
  {
   "metadata": {
    "ExecuteTime": {
     "end_time": "2025-10-29T12:53:30.854894Z",
     "start_time": "2025-10-29T12:53:30.852193Z"
    }
   },
   "cell_type": "code",
   "source": [
    "# func and get x/y func\n",
    "def get_y(theta, gamma, x1):\n",
    "    return ALPHA/(PI**2) * theta ** 2 * (1/(theta** 2 + 1/(gamma**2)) - 1/(theta**2 + 1/(gamma**2) - x1))**2\n",
    "\n",
    "\n",
    "def get_XY_for_plot(theta_cnt, gamma, x1, min_theta=-0.02, max_theta=0.02):\n",
    "    x = np.linspace(min_theta, max_theta, theta_cnt )\n",
    "\n",
    "    y = np.copy(x)\n",
    "    for idx, theta in enumerate(x):\n",
    "        y[idx] = get_y(theta, gamma, x1)\n",
    "    return x, y\n"
   ],
   "id": "3959239ff6e483ad",
   "outputs": [],
   "execution_count": 19
  },
  {
   "metadata": {
    "ExecuteTime": {
     "end_time": "2025-10-29T12:53:30.905363Z",
     "start_time": "2025-10-29T12:53:30.859582Z"
    }
   },
   "cell_type": "code",
   "source": [
    "# graph\n",
    "x_1, y_1 = get_XY_for_plot(1000, 300, X1)\n",
    "x_2, y_2 = get_XY_for_plot(1000, 400, X1)\n",
    "\n",
    "\n",
    "df = pd.DataFrame({\n",
    "    \"theta\": np.concatenate([x_1, x_2]),\n",
    "    \"y\": np.concatenate([y_1, y_2]),\n",
    "    \"label\": [\"График 1\"] * len(x_1) + [\"График 2\"] * len(x_2)\n",
    "})\n",
    "\n",
    "fig = px.line(df, x=\"theta\", y=\"y\", color=\"label\")\n",
    "\n",
    "\n",
    "fig.update_layout(\n",
    "    template=\"plotly_white\"\n",
    ")\n",
    "fig.show()"
   ],
   "id": "511ad4f2bebee327",
   "outputs": [
    {
     "data": {
      "application/vnd.plotly.v1+json": {
       "data": [
        {
         "hovertemplate": "label=График 1<br>theta=%{x}<br>y=%{y}<extra></extra>",
         "legendgroup": "График 1",
         "line": {
          "color": "#636efa",
          "dash": "solid"
         },
         "marker": {
          "symbol": "circle"
         },
         "mode": "lines",
         "name": "График 1",
         "showlegend": true,
         "x": {
          "dtype": "f8",
          "bdata": "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"
         },
         "xaxis": "x",
         "y": {
          "dtype": "f8",
          "bdata": "v7g7lF8B/D+LzuOHmhz8P6Tdwnb8N/w/jmi0qYVT/D88AjpqNm/8P50GfQIPi/w/RFhQvQ+n/D9MIzLmOMP8P3OlTcmK3/w/h/t8swX8/D869EryqRj9P2Po9NN3Nf0/sZhsp29S/T8fEVq8kW/9P+6RHWPejP0/TX7R7FWq/T8FUUyr+Mf9P8aWIvHG5f0/fe6oEcED/j/JD/Zg5yH+P2PX5DM6QP4/sFkW4Lle/j/E+/O7Zn3+P4WSsR5BnP4/R4hPYEm7/j/oCJ3Zf9r+P4A0OuTk+f4/t1ia2ngZ/z/UMAYYPDn/P5ssnvguWf8/Dr5c2VF5/z9arhgYpZn/P3x5hxMpuv8/fLE/K97a/z+oaLu/xPv/P5FRLZluDgBAD+iy8hMfAEAzJQie0i8AQFJwPc2qQABAtDLbspxRAEB4I+OBqGIAQGmX0W3OcwBA79Seqg6FAED7a8BsaZYAQASSKunepwBAVYJRVW+5AEBt4irnGssAQLMqL9Xh3ABAfxNbVsTuAECBBjGiwgABQIKUuvDcEgFAz++JehMlAUABa7t4ZjcBQG/89iTWSQFAUsZxuWJcAUCQo+9wDG8BQEu5xIbTgQFAWg3XNriUAUCMIaC9uqcBQOiTLljbugFAAMQnRBrOAUAxfcm/d+EBQCym6wn09AFAnfUBYo8IAkAgrB0IShwCQHJT7zwkMAJAL4PIQR5EAkDdqp1YOFgCQJThB8RybAJAOLtGx82AAkBbI0KmSZUCQNM9jKXmqQJAMU1jCqW+AkD2nrMahdMCQNR9GR2H6AJA5ynjWKv9AkAA1xIW8hIDQBGxYJ1bKANA9eY8OOg9A0BIu9EwmFMDQOObBdJraQNAnD99Z2N/A0Ckyp09f5UDQHD5jqG/qwNAX1I94STCA0AUXlxLr9gDQMfmaC9f7wNAST6r3TQGBEA2izmnMB0EQDMd+t1SNARASMil1JtLBEBxR8reC2MEQKSmzFCjegRAHrTrf2KSBEAxeULCSaoEQL+6ym5ZwgRAPoFf3ZHaBECCqL9m8/IEQG93kGR+CwVAgT9gMTMkBUBLBKkoEj0FQDAr06YbVgVAKjM4CVBvBUDUdCWur4gFQOfq3vQ6ogVAEAOiPfK7BUBJd6jp1dUFQPUvK1vm7wVAeS5l9SMKBkDJgJYcjyQGQNA9BzYoPwZAxIoKqO9ZBkCPqQHa5XQGQGYQXzQLkAZAlYqpIGCrBkCZYn8J5cYGQMiVmVqa4gZAQxHPgID+BkCp+BfqlxoHQHX2kAXhNgdAEpZ+Q1xTB0DRp1AVCnAHQOKupe3qjAdAMVlOQP+pB0CGAVGCR8cHQNI77SnE5AdAm2ufrnUCCEAWZSSJXCAIQFoYfTN5PghAcEfyKMxcCEC9RhjmVXsIQE3I0ugWmghAtrFYsA+5CED+/De9QNgIQE+kWZGq9whAvZgFsE0XCUDxw+adKjcJQD0VD+FBVwlAjZn7AJR3CUDZnpiGIZgJQMviRfzquAlAzMza7fDZCUBns6roM/sJQGUtiXu0HApAF27ONnM+CkB/rVuscGAKQOebn2+tggpAReGaFSqlCkARqOQ058cKQCY0r2Xl6gpA/oTMQSUOC0ATBLNkpzELQLE+gmtsVQtAs6sH9XR5C0AKfcOhwZ0LQBV97RNTwgtAevd57ynnC0Axrh7aRgwMQMvZV3uqMQxAxjVtfFVXDEBsGHeISH0MQC+WY0yEowxAr7D7dgnKDEBZkei42PAMQB3PuMTyFw1Awr/lTlg/DUBR1NgNCmcNQKcA8bkIjw1A/C2IDVW3DUBmuPjE798NQPb2op7ZCA5AcM7yWhMyDkCKTmW8nVsOQClZjod5hQ5AzFMeg6evDkDI4ud3KNoOQPet5TD9BA9AvS5AeyYwD0BOh1MmpVsPQGBitQN6hw9AnNs656WzD0Dxb/6mKeAPQAL7sg2DBhBAyk6UDx4dEEAhe6pH5jMQQFZ+qyXcShBA7xZ/GgBiEEAc0EGYUnkQQNEQSBLUkBBAIi0h/YSoEECzeZrOZcAQQNNgwv122BBADHnrArnwEEDLnK9XLAkRQKUC83bRIRFALlbn3Kg6EUCH0A4Hs1MRQLVQP3TwbBFA5XKlpGGGEUCDpscZB6ARQG1CiVbhuRFAzZYt3/DTEUAs/Fo5Nu4RQBbfHeyxCBJAtcfrf2QjEkDgXKZ+Tj4SQPVhnnNwWRJAka6W68p0EkDsH8d0XpASQKiC354rrBJAaXQK+zLIEkCrPPAbdeQSQI2buZXyABNA9I0S/qsdE0AKBi3soToTQAmXw/jUVxNATRMcvkV1E0DJGwrY9JITQGaf8ePisBNAd0nJgBDPE0DL3RxPfu0TQCGBD/EsDBRAw+xdCh0rFECui2BAT0oUQOZ/DTrEaRRAgY76n3yJFECn8F4ceakUQMwHFVu6yRRAzPObCUHqFEBqCBnXDQsVQNogWXQhLBVAIs/Rk3xNFUANZaLpH28VQNLUlCsMkRVA+GYeEUKzFUAlQ2BTwtUVQDTJJ62N+BVAaLju2qQbFkB9IduaCD8WQCohv6y5YhZACmAY0riGFkC3VA/OBqsWQChFdmWkzxZAuwPIXpL0FkCWZCaC0RkXQMJnWJliPxdAEBTIb0ZlF0Ab/3/SfYsXQAN+KJAJshdAwHoEeerYF0Cw6e1eIQAYQGPaURWvJxhANx8scZRPGEB3hgJJ0ncYQJef33RpoBhAlwdNzlrJGEAxNk0wp/IYQFPGVHdPHBlAijNDgVRGGUDqBVstt3AZQKxlOVx4mxlAnQ/N75jGGUAJo0zLGfIZQHdBLNP7HRpAV3gS7T9KGkCFbMz/5nYaQNA+QfPxoxpAzqBksGHRGkCVkCghN/8aQLgxbjBzLRtAcbn1yRZcG0CEY03aIosbQOZkv06YuhtA4NA+FXjqG0DNZFMcwxocQDsuBFN6SxxAjP7AqJ58HED4nkoNMa4cQN62mXAy4BxANFbEwqMSHUD1FOLzhUUdQDW47vPZeB1AVUyrsqCsHUDVo30f2+AdQBMpTimKFR5A5vBjvq5KHkDo+j7MSYAeQDaMcD9cth5Axo9xA+fsHkBV53YC6yMfQOeWQyVpWx9AobP4UmKTH0CQ/uJw18sfQCsJI7FkAiBAD4UShBwfIECeQ4SgEzwgQNH8YHRKWSBATgcWbMF2IEDKE3TyeJQgQCtdjHBxsiBAMT2MTavQIED3FJfuJu8gQAJ4nrbkDSFABog4BuUsIUB7bnQ7KEwhQAjhrLGuayFAhZxYwXiLIUDzwdi/hqshQNT/RP/YyyFAxnE1zm/sIUAnH4p3Sw0iQPYAMEJsLiJAPXbjcNJPIkBuDfBBfnEiQBaI7e5vkyJA2f15rKe1IkAGAvGpJdgiQMOuHxHq+iJAkXf1BfUdI0C2ozGmRkEjQKRQDQnfZCNAvNrhPr6II0ByistQ5KwjQPFhSEBR0SNAYefSBgX2I0CRxXiV/xokQK4cbdRAQCRAIluWoshlJECDdRfVloskQHxT1DarsSRAdUbxhwXYJEBvXU19pf4kQKlo97+KJSVAJX6d7LRMJUBez/aSI3QlQC+fJzXWmyVAxSUfR8zDJUC0L+8tBewlQM9DHT+AFCZAyRrtvzw9JkCyMqTkOWYmQOtGxs92jyZAXnVKkfK4JkAe2MglrOImQG9aoHWiDCdAnY8UVNQ2J0BvUWN+QGEnQNjr0ZrliydAdpuxN8K2J0BTJFvK1OEnQIlGIa4bDShA7NY5I5U4KECPQp1NP2QoQI5E3DMYkChAEpfrvR28KECdaeWzTegoQNRowLylFClAviX8XCNBKUBXrUL1w20pQDgk/8CEmilASz3p1GLHKUAXZ4UdW/QpQBWPmV1qISpADmCWLI1OKkBT5vT0v3sqQA+LiPL+qCpAQ1/FMEbWKkBWt/qIkQMrQB0hgqDcMCtAL8ji5iJeK0C6Z+mTX4srQB/1tKWNuCtAKTy43qflK0A4tLDDqBIsQGfmkpmKPyxAws1sY0dsLEA/rj7g2JgsQAn0yog4xSxANcNdjV/xLED4+IzTRh0tQN158fPmSC1AcsXaNzh0LUDZ5v2WMp8tQJX7ILXNyS1AWa3E3wD0LUAKI80Lwx0uQP0VLNMKRy5AguWNcs5vLkDwsQvHA5guQAW75Eugvy5A83NBGJnmLkDv9wLd4gwvQCHIoeJxMi9Ad/seBzpXL0CoTQu8LnsvQNDCpwRDni9AsuAjdGnAL0Cpzv0rlOEvQKuARG3aADBA/jbQXF4QMEDAzsRGTh8wQAorB1KiLTBAWHrpaVI7MEAc+/c9VkgwQK/M6kGlVDBA33bArTZgMEDlCQV+AWswQNrwSXT8dDBAT8nSFx5+MECPzHu2XIYwQPyP3mWujTBAQhu6BAmUMEDjiqM8YpkwQHOsBISvnTBA/TVuIOagMEAIbEMp+6IwQD43xYrjozBApNSCCZSjMED3bjZGAaIwQEoNFMIfnzBAx1iR4+OaMED1x6z7QZUwQEPAuksujjBAJTW/C52FMEDENFpxgnswQG6sTbfSbzBAtXeiJYJiMECZg3IahVMwQGVwXRPQQjBAGKist1cwMEApUSvjEBwwQLfctbHwBTBAYlQIF9nbL0BFq2Bk9KcvQE6B9pwfcC9A3Hyd/Uc0L0AJ/PfMW/QuQOm3ZntKsC5AdlRixARoLkAfdjLRfBsuQM0f8lymyi1AwfLM2XZ1LUCvblyX5RstQIKGB+rrvSxAPcZBU4VbLECk5oGqr/QrQFQLwkZriStAlAxWKLsZK0CjI94ipaUqQEQlFgcyLSpA/TI7zG2wKUAZh7u4Zy8pQKnK3YkyqihAAVQHmuQgKEAI2UIFmJMnQA6no8tqAidAJmoc8X5tJkC5GVya+tQlQCDhPyYIOSVAqu1lQ9aZJECZFmsBmPcjQIB6XN2EUiNAVI7myNiqIkC52swr1AAiQBHlON+7VCFA2ppzItmmIEDATUYR8+4fQNnqXr7djR5AjcXzGB4rHUCVV0HNZ8cbQGR+KQR2YxpAhOSw7woAGUBwqp5G750XQCiyNa/xPRZARAMpGebgFEBFpxkHpYcTQOytG8gKMxJASDDxofbjEEBOK7nZkzYPQDTHPETOswxA6W/LvGFBCkAQ31izEeEHQOQrUKydlAVAr0JMEL9dA0AbsqfxJj4BQBHbXpj3bv4/2dgIh66W+j89b9jJh/b2PwcW7uJ1kfM/O6rzakRq8D8nnYjJJwfrP/yXhH+rv+U/vjZBJZEC4T/fsjlg0qfZP5zf49ihbtI/Y5Lhy7K/yD81EvSdFgO+P7e9/EN0ra4/9L7rhgMdlj8vscSz6qpjPy+xxLPqqmM/KbzrhgMdlj+3vfxDdK2uPzUS9J0WA74/V5Hhy7K/yD+c3+PYoW7SP9+yOWDSp9k/UTZBJZEC4T/8l4R/q7/lPyediMknB+s/8anzakRq8D8HFu7idZHzPz1v2MmH9vY/ftgIh66W+j8R216Y927+P+axp/EmPgFAeUJMEL9dA0DkK1CsnZQFQNfeWLMR4QdAr2/LvGFBCkA0xzxEzrMMQA0rudmTNg9AKDDxofbjEEDsrRvICjMSQCOnGQelhxNAIQMpGebgFEAosjWv8T0WQFCqnkbvnRdAZOSw7woAGUBkfikEdmMaQHVXQc1nxxtAbcXzGB4rHUDZ6l6+3Y0eQJ1NRhHz7h9Ay5pzItmmIEAR5Tjfu1QhQKnazCvUACJARI7myNiqIkCAelzdhFIjQIsWawGY9yNAqu1lQ9aZJEAg4T8mCDklQKoZXJr61CVAJmoc8X5tJkAOp6PLagInQPnYQgWYkydAAVQHmuQgKECpyt2JMqooQAyHu7hnLylA/TI7zG2wKUBEJRYHMi0qQJYj3iKlpSpAlAxWKLsZK0BUC8JGa4krQJnmgaqv9CtAPcZBU4VbLECChgfq670sQKduXJflGy1AwfLM2XZ1LUDNH/JcpsotQBd2MtF8Gy5AdlRixARoLkDpt2Z7SrAuQAb898xb9C5A3Hyd/Uc0L0BKgfacH3AvQDyrYGT0py9AYlQIF9nbL0Cz3LWx8AUwQCdRK+MQHDBAGKist1cwMEBjcF0T0EIwQJeDchqFUzBAtXeiJYJiMEBtrE230m8wQMM0WnGCezBAJTW/C52FMEBCwLpLLo4wQPTHrPtBlTBAx1iR4+OaMEBLDRTCH58wQPluNkYBojBApNSCCZSjMEA+N8WK46MwQAdsQyn7ojBA/TVuIOagMEBxrASEr50wQOOKozximTBAQhu6BAmUMED/j95lro0wQI/Me7ZchjBAT8nSFx5+MEDZ8El0/HQwQOUJBX4BazBA33bArTZgMECxzOpBpVQwQBz79z1WSDBAWHrpaVI7MEAKKwdSoi0wQMDOxEZOHzBA/jbQXF4QMECsgERt2gAwQKnO/SuU4S9AsuAjdGnAL0DUwqcEQ54vQKhNC7wuey9Ad/seBzpXL0AlyKHicTIvQO/3At3iDC9A9HNBGJnmLkAHu+RLoL8uQPCxC8cDmC5AguWNcs5vLkD/FSzTCkcuQAojzQvDHS5AXq3E3wD0LUCX+yC1zcktQNnm/ZYyny1Ac8XaNzh0LUDjefHz5kgtQPj4jNNGHS1ANMNdjV/xLEAP9MqIOMUsQD+uPuDYmCxAw81sY0dsLEBp5pKZij8sQDi0sMOoEixALTy43qflK0Al9bSljbgrQLtn6ZNfiytALsji5iJeK0AhIYKg3DArQFa3+oiRAytARF/FMEbWKkAVi4jy/qgqQFXm9PS/eypAE2CWLI1OKkAbj5ldaiEqQBxnhR1b9ClATT3p1GLHKUA4JP/AhJopQFqtQvXDbSlAwCX8XCNBKUDUaMC8pRQpQJ1p5bNN6ChAE5frvR28KECORNwzGJAoQJFCnU0/ZChA79Y5I5U4KECJRiGuGw0oQFYkW8rU4SdAeZuxN8K2J0DY69Ga5YsnQHJRY35AYSdAo48UVNQ2J0BvWqB1ogwnQB7YyCWs4iZAYnVKkfK4JkDrRsbPdo8mQLMypOQ5ZiZAzBrtvzw9JkDPQx0/gBQmQLYv7y0F7CVAyiUfR8zDJUAvnyc11pslQGDP9pIjdCVAKH6d7LRMJUCpaPe/iiUlQHFdTX2l/iRAeUbxhwXYJEB8U9Q2q7EkQIR1F9WWiyRAJVuWoshlJECuHG3UQEAkQJPFeJX/GiRAZufSBgX2I0DxYUhAUdEjQHOKy1DkrCNAwtrhPr6II0CkUA0J32QjQLejMaZGQSNAlXf1BfUdI0DGrh8R6voiQAkC8akl2CJA3f15rKe1IkAXiO3ub5MiQG8N8EF+cSJAQHbjcNJPIkD3ADBCbC4iQCkfindLDSJAynE1zm/sIUDV/0T/2MshQPTB2L+GqyFAhZxYwXiLIUAJ4ayxrmshQH1udDsoTCFABog4BuUsIUAEeJ625A0hQPcUl+4m7yBAMT2MTavQIEArXYxwcbIgQMsTdPJ4lCBATgcWbMF2IEDS/GB0SlkgQJ5DhKATPCBAD4UShBwfIEAsCSOxZAIgQJP+4nDXyx9AobP4UmKTH0DplkMlaVsfQFnndgLrIx9Axo9xA+fsHkA4jHA/XLYeQO36PsxJgB5A5vBjvq5KHkAWKU4pihUeQNmjfR/b4B1AVUyrsqCsHUA4uO7z2XgdQPkU4vOFRR1ANFbEwqMSHUDhtplwMuAcQP6eSg0xrhxAjP7AqJ58HEA8LgRTekscQNJkUxzDGhxA4NA+FXjqG0DoZL9OmLobQIhjTdoiixtAcbn1yRZcG0C5MW4wcy0bQJmQKCE3/xpAzqBksGHRGkDVPkHz8aMaQIpszP/mdhpAWHgS7T9KGkB3QSzT+x0aQA6jTMsZ8hlAnQ/N75jGGUCsZTlceJsZQO8FWy23cBlAjTNDgVRGGUBVxlR3TxwZQDE2TTCn8hhAmAdNzlrJGECbn990aaAYQHeGAknSdxhAOx8scZRPGEBj2lEVrycYQLDp7V4hABhAw3oEeerYF0ADfiiQCbIXQBv/f9J9ixdAExTIb0ZlF0DGZ1iZYj8XQJZkJoLRGRdAvAPIXpL0FkAsRXZlpM8WQLdUD84GqxZAC2AY0riGFkAvIb+suWIWQH0h25oIPxZAarju2qQbFkA2ySetjfgVQCVDYFPC1RVA/GYeEUKzFUDU1JQrDJEVQA1loukfbxVAI8/Rk3xNFUDcIFl0ISwVQGoIGdcNCxVAzfObCUHqFEDRBxVbuskUQKfwXhx5qRRAhI76n3yJFEDmfw06xGkUQK6LYEBPShRAxuxdCh0rFEAmgQ/xLAwUQMvdHE9+7RNAfEnJgBDPE0Bmn/Hj4rATQMcbCtj0khNAUBMcvkV1E0AKl8P41FcTQA4GLeyhOhNA9Y0S/qsdE0CNm7mV8gATQK088Bt15BJAaHQK+zLIEkCngt+eK6wSQPMfx3RekBJAj66W68p0EkD1YZ5zcFkSQOJcpn5OPhJAtMfrf2QjEkAX3x3ssQgSQC/8Wjk27hFAy5Yt3/DTEUBtQolW4bkRQIWmxxkHoBFA5XKlpGGGEUC1UD908GwRQIzQDgezUxFALlbn3Kg6EUClAvN20SERQMqcr1csCRFAD3nrArnwEEDWYML9dtgQQLZ5ms5lwBBAIi0h/YSoEEDREEgS1JAQQB3QQZhSeRBA8RZ/GgBiEEBafqsl3EoQQCJ7qkfmMxBAyk6UDx4dEEAC+7INgwYQQPVv/qYp4A9AnNs656WzD0BmYrUDeocPQEqHUyalWw9AvS5AeyYwD0D3reUw/QQPQMvi53co2g5AzVMeg6evDkArWY6HeYUOQIZOZbydWw5AcM7yWhMyDkD29qKe2QgOQGi4+MTv3w1AAi6IDVW3DUCqAPG5CI8NQFHU2A0KZw1Awr/lTlg/DUAdz7jE8hcNQFyR6LjY8AxAs7D7dgnKDEAylmNMhKMMQGoYd4hIfQxAxjVtfFVXDEDL2Vd7qjEMQDGuHtpGDAxAfvd57ynnC0ATfe0TU8ILQAp9w6HBnQtAs6sH9XR5C0CxPoJrbFULQBcEs2SnMQtAA4XMQSUOC0AnNK9l5eoKQBGo5DTnxwpAReGaFSqlCkDrm59vrYIKQIKtW6xwYApAHG7ONnM+CkBqLYl7tBwKQGezqugz+wlAzMza7fDZCUDM4kX86rgJQNuemIYhmAlAkpn7AJR3CUBBFQ/hQVcJQPHD5p0qNwlAvZgFsE0XCUBPpFmRqvcIQP78N71A2AhAuLFYsA+5CEBRyNLoFpoIQL1GGOZVewhAcEfyKMxcCEBaGH0zeT4IQBhlJIlcIAhAnmufrnUCCEDQO+0pxOQHQIYBUYJHxwdAMVlOQP+pB0DjrqXt6owHQNOnUBUKcAdAFZZ+Q1xTB0B09pAF4TYHQKn4F+qXGgdAQxHPgID+BkDJlZlamuIGQJxifwnlxgZAlYqpIGCrBkBmEF80C5AGQI+pAdrldAZAxIoKqO9ZBkDSPQc2KD8GQMyAlhyPJAZAey5l9SMKBkD1Lytb5u8FQEl3qOnV1QVAEAOiPfK7BUDo6t70OqIFQNV0Ja6viAVALDM4CVBvBUAwK9OmG1YFQEsEqSgSPQVAgT9gMTMkBUByd5BkfgsFQISov2bz8gRAQYFf3ZHaBEC/uspuWcIEQDF5QsJJqgRAHrTrf2KSBECopsxQo3oEQHNHyt4LYwRASsil1JtLBEAzHfrdUjQEQDaLOacwHQRAST6r3TQGBEDJ5mgvX+8DQBdeXEuv2ANAYVI94STCA0Bw+Y6hv6sDQKTKnT1/lQNAnz99Z2N/A0DlmwXSa2kDQEq70TCYUwNA9uY8OOg9A0ARsWCdWygDQADXEhbyEgNA6SnjWKv9AkDVfRkdh+gCQPeesxqF0wJAL01jCqW+AkDTPYyl5qkCQFsjQqZJlQJAO7tGx82AAkCW4QfEcmwCQOCqnVg4WAJAL4PIQR5EAkByU+88JDACQCCsHQhKHAJAnvUBYo8IAkAtpusJ9PQBQDJ9yb934QFAAMQnRBrOAUDoky5Y27oBQIwhoL26pwFAWw3XNriUAUBNucSG04EBQJKj73AMbwFAUsZxuWJcAUBv/PYk1kkBQAFru3hmNwFA0e+JehMlAUCDlLrw3BIBQIIGMaLCAAFAfxNbVsTuAECzKi/V4dwAQG3iKucaywBAVoJRVW+5AEAHkirp3qcAQP1rwGxplgBA79Seqg6FAEBpl9FtznMAQHgj44GoYgBAtzLbspxRAEBUcD3NqkAAQDUlCJ7SLwBAD+iy8hMfAECRUS2Zbg4AQKhou7/E+/8/grE/K97a/z+BeYcTKbr/P1yuGBilmf8/Dr5c2VF5/z+bLJ74Lln/P9gwBhg8Of8/u1ia2ngZ/z+ANDrk5Pn+P+QIndl/2v4/R4hPYEm7/j+FkrEeQZz+P8b787tmff4/sFkW4Lle/j9j1+QzOkD+P8kP9mDnIf4/fe6oEcED/j/GliLxxuX9PwlRTKv4x/0/U37R7FWq/T/vkR1j3oz9Px8RWryRb/0/sZhsp29S/T9j6PTTdzX9Pz70SvKpGP0/ivt8swX8/D92pU3Jit/8P0wjMuY4w/w/RFhQvQ+n/D+dBn0CD4v8Pz8COmo2b/w/kGi0qYVT/D+l3cJ2/Df8P4vO44eaHPw/v7g7lF8B/D8="
         },
         "yaxis": "y",
         "type": "scattergl"
        },
        {
         "hovertemplate": "label=График 2<br>theta=%{x}<br>y=%{y}<extra></extra>",
         "legendgroup": "График 2",
         "line": {
          "color": "#EF553B",
          "dash": "solid"
         },
         "marker": {
          "symbol": "circle"
         },
         "mode": "lines",
         "name": "График 2",
         "showlegend": true,
         "x": {
          "dtype": "f8",
          "bdata": "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"
         },
         "xaxis": "x",
         "y": {
          "dtype": "f8",
          "bdata": "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"
         },
         "yaxis": "y",
         "type": "scattergl"
        }
       ],
       "layout": {
        "template": {
         "data": {
          "barpolar": [
           {
            "marker": {
             "line": {
              "color": "white",
              "width": 0.5
             },
             "pattern": {
              "fillmode": "overlay",
              "size": 10,
              "solidity": 0.2
             }
            },
            "type": "barpolar"
           }
          ],
          "bar": [
           {
            "error_x": {
             "color": "#2a3f5f"
            },
            "error_y": {
             "color": "#2a3f5f"
            },
            "marker": {
             "line": {
              "color": "white",
              "width": 0.5
             },
             "pattern": {
              "fillmode": "overlay",
              "size": 10,
              "solidity": 0.2
             }
            },
            "type": "bar"
           }
          ],
          "carpet": [
           {
            "aaxis": {
             "endlinecolor": "#2a3f5f",
             "gridcolor": "#C8D4E3",
             "linecolor": "#C8D4E3",
             "minorgridcolor": "#C8D4E3",
             "startlinecolor": "#2a3f5f"
            },
            "baxis": {
             "endlinecolor": "#2a3f5f",
             "gridcolor": "#C8D4E3",
             "linecolor": "#C8D4E3",
             "minorgridcolor": "#C8D4E3",
             "startlinecolor": "#2a3f5f"
            },
            "type": "carpet"
           }
          ],
          "choropleth": [
           {
            "colorbar": {
             "outlinewidth": 0,
             "ticks": ""
            },
            "type": "choropleth"
           }
          ],
          "contourcarpet": [
           {
            "colorbar": {
             "outlinewidth": 0,
             "ticks": ""
            },
            "type": "contourcarpet"
           }
          ],
          "contour": [
           {
            "colorbar": {
             "outlinewidth": 0,
             "ticks": ""
            },
            "colorscale": [
             [
              0.0,
              "#0d0887"
             ],
             [
              0.1111111111111111,
              "#46039f"
             ],
             [
              0.2222222222222222,
              "#7201a8"
             ],
             [
              0.3333333333333333,
              "#9c179e"
             ],
             [
              0.4444444444444444,
              "#bd3786"
             ],
             [
              0.5555555555555556,
              "#d8576b"
             ],
             [
              0.6666666666666666,
              "#ed7953"
             ],
             [
              0.7777777777777778,
              "#fb9f3a"
             ],
             [
              0.8888888888888888,
              "#fdca26"
             ],
             [
              1.0,
              "#f0f921"
             ]
            ],
            "type": "contour"
           }
          ],
          "heatmap": [
           {
            "colorbar": {
             "outlinewidth": 0,
             "ticks": ""
            },
            "colorscale": [
             [
              0.0,
              "#0d0887"
             ],
             [
              0.1111111111111111,
              "#46039f"
             ],
             [
              0.2222222222222222,
              "#7201a8"
             ],
             [
              0.3333333333333333,
              "#9c179e"
             ],
             [
              0.4444444444444444,
              "#bd3786"
             ],
             [
              0.5555555555555556,
              "#d8576b"
             ],
             [
              0.6666666666666666,
              "#ed7953"
             ],
             [
              0.7777777777777778,
              "#fb9f3a"
             ],
             [
              0.8888888888888888,
              "#fdca26"
             ],
             [
              1.0,
              "#f0f921"
             ]
            ],
            "type": "heatmap"
           }
          ],
          "histogram2dcontour": [
           {
            "colorbar": {
             "outlinewidth": 0,
             "ticks": ""
            },
            "colorscale": [
             [
              0.0,
              "#0d0887"
             ],
             [
              0.1111111111111111,
              "#46039f"
             ],
             [
              0.2222222222222222,
              "#7201a8"
             ],
             [
              0.3333333333333333,
              "#9c179e"
             ],
             [
              0.4444444444444444,
              "#bd3786"
             ],
             [
              0.5555555555555556,
              "#d8576b"
             ],
             [
              0.6666666666666666,
              "#ed7953"
             ],
             [
              0.7777777777777778,
              "#fb9f3a"
             ],
             [
              0.8888888888888888,
              "#fdca26"
             ],
             [
              1.0,
              "#f0f921"
             ]
            ],
            "type": "histogram2dcontour"
           }
          ],
          "histogram2d": [
           {
            "colorbar": {
             "outlinewidth": 0,
             "ticks": ""
            },
            "colorscale": [
             [
              0.0,
              "#0d0887"
             ],
             [
              0.1111111111111111,
              "#46039f"
             ],
             [
              0.2222222222222222,
              "#7201a8"
             ],
             [
              0.3333333333333333,
              "#9c179e"
             ],
             [
              0.4444444444444444,
              "#bd3786"
             ],
             [
              0.5555555555555556,
              "#d8576b"
             ],
             [
              0.6666666666666666,
              "#ed7953"
             ],
             [
              0.7777777777777778,
              "#fb9f3a"
             ],
             [
              0.8888888888888888,
              "#fdca26"
             ],
             [
              1.0,
              "#f0f921"
             ]
            ],
            "type": "histogram2d"
           }
          ],
          "histogram": [
           {
            "marker": {
             "pattern": {
              "fillmode": "overlay",
              "size": 10,
              "solidity": 0.2
             }
            },
            "type": "histogram"
           }
          ],
          "mesh3d": [
           {
            "colorbar": {
             "outlinewidth": 0,
             "ticks": ""
            },
            "type": "mesh3d"
           }
          ],
          "parcoords": [
           {
            "line": {
             "colorbar": {
              "outlinewidth": 0,
              "ticks": ""
             }
            },
            "type": "parcoords"
           }
          ],
          "pie": [
           {
            "automargin": true,
            "type": "pie"
           }
          ],
          "scatter3d": [
           {
            "line": {
             "colorbar": {
              "outlinewidth": 0,
              "ticks": ""
             }
            },
            "marker": {
             "colorbar": {
              "outlinewidth": 0,
              "ticks": ""
             }
            },
            "type": "scatter3d"
           }
          ],
          "scattercarpet": [
           {
            "marker": {
             "colorbar": {
              "outlinewidth": 0,
              "ticks": ""
             }
            },
            "type": "scattercarpet"
           }
          ],
          "scattergeo": [
           {
            "marker": {
             "colorbar": {
              "outlinewidth": 0,
              "ticks": ""
             }
            },
            "type": "scattergeo"
           }
          ],
          "scattergl": [
           {
            "marker": {
             "colorbar": {
              "outlinewidth": 0,
              "ticks": ""
             }
            },
            "type": "scattergl"
           }
          ],
          "scattermapbox": [
           {
            "marker": {
             "colorbar": {
              "outlinewidth": 0,
              "ticks": ""
             }
            },
            "type": "scattermapbox"
           }
          ],
          "scattermap": [
           {
            "marker": {
             "colorbar": {
              "outlinewidth": 0,
              "ticks": ""
             }
            },
            "type": "scattermap"
           }
          ],
          "scatterpolargl": [
           {
            "marker": {
             "colorbar": {
              "outlinewidth": 0,
              "ticks": ""
             }
            },
            "type": "scatterpolargl"
           }
          ],
          "scatterpolar": [
           {
            "marker": {
             "colorbar": {
              "outlinewidth": 0,
              "ticks": ""
             }
            },
            "type": "scatterpolar"
           }
          ],
          "scatter": [
           {
            "fillpattern": {
             "fillmode": "overlay",
             "size": 10,
             "solidity": 0.2
            },
            "type": "scatter"
           }
          ],
          "scatterternary": [
           {
            "marker": {
             "colorbar": {
              "outlinewidth": 0,
              "ticks": ""
             }
            },
            "type": "scatterternary"
           }
          ],
          "surface": [
           {
            "colorbar": {
             "outlinewidth": 0,
             "ticks": ""
            },
            "colorscale": [
             [
              0.0,
              "#0d0887"
             ],
             [
              0.1111111111111111,
              "#46039f"
             ],
             [
              0.2222222222222222,
              "#7201a8"
             ],
             [
              0.3333333333333333,
              "#9c179e"
             ],
             [
              0.4444444444444444,
              "#bd3786"
             ],
             [
              0.5555555555555556,
              "#d8576b"
             ],
             [
              0.6666666666666666,
              "#ed7953"
             ],
             [
              0.7777777777777778,
              "#fb9f3a"
             ],
             [
              0.8888888888888888,
              "#fdca26"
             ],
             [
              1.0,
              "#f0f921"
             ]
            ],
            "type": "surface"
           }
          ],
          "table": [
           {
            "cells": {
             "fill": {
              "color": "#EBF0F8"
             },
             "line": {
              "color": "white"
             }
            },
            "header": {
             "fill": {
              "color": "#C8D4E3"
             },
             "line": {
              "color": "white"
             }
            },
            "type": "table"
           }
          ]
         },
         "layout": {
          "annotationdefaults": {
           "arrowcolor": "#2a3f5f",
           "arrowhead": 0,
           "arrowwidth": 1
          },
          "autotypenumbers": "strict",
          "coloraxis": {
           "colorbar": {
            "outlinewidth": 0,
            "ticks": ""
           }
          },
          "colorscale": {
           "diverging": [
            [
             0,
             "#8e0152"
            ],
            [
             0.1,
             "#c51b7d"
            ],
            [
             0.2,
             "#de77ae"
            ],
            [
             0.3,
             "#f1b6da"
            ],
            [
             0.4,
             "#fde0ef"
            ],
            [
             0.5,
             "#f7f7f7"
            ],
            [
             0.6,
             "#e6f5d0"
            ],
            [
             0.7,
             "#b8e186"
            ],
            [
             0.8,
             "#7fbc41"
            ],
            [
             0.9,
             "#4d9221"
            ],
            [
             1,
             "#276419"
            ]
           ],
           "sequential": [
            [
             0.0,
             "#0d0887"
            ],
            [
             0.1111111111111111,
             "#46039f"
            ],
            [
             0.2222222222222222,
             "#7201a8"
            ],
            [
             0.3333333333333333,
             "#9c179e"
            ],
            [
             0.4444444444444444,
             "#bd3786"
            ],
            [
             0.5555555555555556,
             "#d8576b"
            ],
            [
             0.6666666666666666,
             "#ed7953"
            ],
            [
             0.7777777777777778,
             "#fb9f3a"
            ],
            [
             0.8888888888888888,
             "#fdca26"
            ],
            [
             1.0,
             "#f0f921"
            ]
           ],
           "sequentialminus": [
            [
             0.0,
             "#0d0887"
            ],
            [
             0.1111111111111111,
             "#46039f"
            ],
            [
             0.2222222222222222,
             "#7201a8"
            ],
            [
             0.3333333333333333,
             "#9c179e"
            ],
            [
             0.4444444444444444,
             "#bd3786"
            ],
            [
             0.5555555555555556,
             "#d8576b"
            ],
            [
             0.6666666666666666,
             "#ed7953"
            ],
            [
             0.7777777777777778,
             "#fb9f3a"
            ],
            [
             0.8888888888888888,
             "#fdca26"
            ],
            [
             1.0,
             "#f0f921"
            ]
           ]
          },
          "colorway": [
           "#636efa",
           "#EF553B",
           "#00cc96",
           "#ab63fa",
           "#FFA15A",
           "#19d3f3",
           "#FF6692",
           "#B6E880",
           "#FF97FF",
           "#FECB52"
          ],
          "font": {
           "color": "#2a3f5f"
          },
          "geo": {
           "bgcolor": "white",
           "lakecolor": "white",
           "landcolor": "white",
           "showlakes": true,
           "showland": true,
           "subunitcolor": "#C8D4E3"
          },
          "hoverlabel": {
           "align": "left"
          },
          "hovermode": "closest",
          "mapbox": {
           "style": "light"
          },
          "paper_bgcolor": "white",
          "plot_bgcolor": "white",
          "polar": {
           "angularaxis": {
            "gridcolor": "#EBF0F8",
            "linecolor": "#EBF0F8",
            "ticks": ""
           },
           "bgcolor": "white",
           "radialaxis": {
            "gridcolor": "#EBF0F8",
            "linecolor": "#EBF0F8",
            "ticks": ""
           }
          },
          "scene": {
           "xaxis": {
            "backgroundcolor": "white",
            "gridcolor": "#DFE8F3",
            "gridwidth": 2,
            "linecolor": "#EBF0F8",
            "showbackground": true,
            "ticks": "",
            "zerolinecolor": "#EBF0F8"
           },
           "yaxis": {
            "backgroundcolor": "white",
            "gridcolor": "#DFE8F3",
            "gridwidth": 2,
            "linecolor": "#EBF0F8",
            "showbackground": true,
            "ticks": "",
            "zerolinecolor": "#EBF0F8"
           },
           "zaxis": {
            "backgroundcolor": "white",
            "gridcolor": "#DFE8F3",
            "gridwidth": 2,
            "linecolor": "#EBF0F8",
            "showbackground": true,
            "ticks": "",
            "zerolinecolor": "#EBF0F8"
           }
          },
          "shapedefaults": {
           "line": {
            "color": "#2a3f5f"
           }
          },
          "ternary": {
           "aaxis": {
            "gridcolor": "#DFE8F3",
            "linecolor": "#A2B1C6",
            "ticks": ""
           },
           "baxis": {
            "gridcolor": "#DFE8F3",
            "linecolor": "#A2B1C6",
            "ticks": ""
           },
           "bgcolor": "white",
           "caxis": {
            "gridcolor": "#DFE8F3",
            "linecolor": "#A2B1C6",
            "ticks": ""
           }
          },
          "title": {
           "x": 0.05
          },
          "xaxis": {
           "automargin": true,
           "gridcolor": "#EBF0F8",
           "linecolor": "#EBF0F8",
           "ticks": "",
           "title": {
            "standoff": 15
           },
           "zerolinecolor": "#EBF0F8",
           "zerolinewidth": 2
          },
          "yaxis": {
           "automargin": true,
           "gridcolor": "#EBF0F8",
           "linecolor": "#EBF0F8",
           "ticks": "",
           "title": {
            "standoff": 15
           },
           "zerolinecolor": "#EBF0F8",
           "zerolinewidth": 2
          }
         }
        },
        "xaxis": {
         "anchor": "y",
         "domain": [
          0.0,
          1.0
         ],
         "title": {
          "text": "theta"
         }
        },
        "yaxis": {
         "anchor": "x",
         "domain": [
          0.0,
          1.0
         ],
         "title": {
          "text": "y"
         }
        },
        "legend": {
         "title": {
          "text": "label"
         },
         "tracegroupgap": 0
        },
        "margin": {
         "t": 60
        }
       },
       "config": {
        "plotlyServerURL": "https://plot.ly"
       }
      }
     },
     "metadata": {},
     "output_type": "display_data",
     "jetTransient": {
      "display_id": null
     }
    }
   ],
   "execution_count": 20
  }
 ],
 "metadata": {
  "kernelspec": {
   "display_name": ".venv",
   "language": "python",
   "name": ".venv"
  },
  "language_info": {
   "codemirror_mode": {
    "name": "ipython",
    "version": 3
   },
   "file_extension": ".py",
   "mimetype": "text/x-python",
   "name": "python",
   "nbconvert_exporter": "python",
   "pygments_lexer": "ipython3",
   "version": "3.13.7"
  }
 },
 "nbformat": 4,
 "nbformat_minor": 5
}
