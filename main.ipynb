{
 "cells": [
  {
   "cell_type": "code",
   "id": "fce93def",
   "metadata": {
    "ExecuteTime": {
     "end_time": "2025-10-09T15:49:32.695499Z",
     "start_time": "2025-10-09T15:49:32.692740Z"
    }
   },
   "source": [
    "import numpy as np\n",
    "import pandas as pd"
   ],
   "outputs": [],
   "execution_count": 5
  },
  {
   "cell_type": "code",
   "id": "0dcbfa7e",
   "metadata": {
    "ExecuteTime": {
     "end_time": "2025-10-09T15:49:32.702635Z",
     "start_time": "2025-10-09T15:49:32.700693Z"
    }
   },
   "source": [
    "# constants\n",
    "\n",
    "ALPHA = 1/137\n",
    "PI = np.pi"
   ],
   "outputs": [],
   "execution_count": 6
  },
  {
   "cell_type": "code",
   "id": "2c391f4d",
   "metadata": {
    "ExecuteTime": {
     "end_time": "2025-10-09T15:49:32.707711Z",
     "start_time": "2025-10-09T15:49:32.706046Z"
    }
   },
   "source": [
    "element = \"Be\""
   ],
   "outputs": [],
   "execution_count": 7
  },
  {
   "metadata": {},
   "cell_type": "markdown",
   "source": "",
   "id": "57164a31aa022703"
  },
  {
   "cell_type": "code",
   "id": "e5eee4e3",
   "metadata": {
    "ExecuteTime": {
     "end_time": "2025-10-09T15:55:50.027644Z",
     "start_time": "2025-10-09T15:55:50.017539Z"
    }
   },
   "source": [
    "# data from element\n",
    "periodoc_table = pd.read_csv(r\"/Users/tema/Desktop/PythonProjects/Physics_AI/data/updated_periodic_table.csv\")\n",
    "\n",
    "row = periodoc_table[periodoc_table[\"Symbol\"] == element]\n",
    "row[\"Density\"].item()"
   ],
   "outputs": [
    {
     "data": {
      "text/plain": [
       "1.85"
      ]
     },
     "execution_count": 17,
     "metadata": {},
     "output_type": "execute_result"
    }
   ],
   "execution_count": 17
  },
  {
   "cell_type": "code",
   "id": "a64de580",
   "metadata": {
    "ExecuteTime": {
     "end_time": "2025-10-09T15:55:53.952283Z",
     "start_time": "2025-10-09T15:55:53.942975Z"
    }
   },
   "source": [
    "\n",
    "row\n"
   ],
   "outputs": [
    {
     "data": {
      "text/plain": [
       "   Unnamed: 0  AtomicNumber    Element Symbol  AtomicMass  NumberofNeutrons  \\\n",
       "3           3             4  Beryllium     Be       9.012                 5   \n",
       "\n",
       "   NumberofProtons  NumberofElectrons  Period  Group  ... Density  \\\n",
       "3                4                  4       2    2.0  ...    1.85   \n",
       "\n",
       "  MeltingPoint BoilingPoint NumberOfIsotopes  Discoverer    Year SpecificHeat  \\\n",
       "3      1560.15       2742.0              6.0  Vaulquelin  1798.0        1.825   \n",
       "\n",
       "   NumberofShells  NumberofValence  \\\n",
       "3               2              2.0   \n",
       "\n",
       "                                                 Chi  \n",
       "3  {'10.0': {'f1': -9999.0, 'f2': 0.398134}, '10....  \n",
       "\n",
       "[1 rows x 30 columns]"
      ],
      "text/html": [
       "<div>\n",
       "<style scoped>\n",
       "    .dataframe tbody tr th:only-of-type {\n",
       "        vertical-align: middle;\n",
       "    }\n",
       "\n",
       "    .dataframe tbody tr th {\n",
       "        vertical-align: top;\n",
       "    }\n",
       "\n",
       "    .dataframe thead th {\n",
       "        text-align: right;\n",
       "    }\n",
       "</style>\n",
       "<table border=\"1\" class=\"dataframe\">\n",
       "  <thead>\n",
       "    <tr style=\"text-align: right;\">\n",
       "      <th></th>\n",
       "      <th>Unnamed: 0</th>\n",
       "      <th>AtomicNumber</th>\n",
       "      <th>Element</th>\n",
       "      <th>Symbol</th>\n",
       "      <th>AtomicMass</th>\n",
       "      <th>NumberofNeutrons</th>\n",
       "      <th>NumberofProtons</th>\n",
       "      <th>NumberofElectrons</th>\n",
       "      <th>Period</th>\n",
       "      <th>Group</th>\n",
       "      <th>...</th>\n",
       "      <th>Density</th>\n",
       "      <th>MeltingPoint</th>\n",
       "      <th>BoilingPoint</th>\n",
       "      <th>NumberOfIsotopes</th>\n",
       "      <th>Discoverer</th>\n",
       "      <th>Year</th>\n",
       "      <th>SpecificHeat</th>\n",
       "      <th>NumberofShells</th>\n",
       "      <th>NumberofValence</th>\n",
       "      <th>Chi</th>\n",
       "    </tr>\n",
       "  </thead>\n",
       "  <tbody>\n",
       "    <tr>\n",
       "      <th>3</th>\n",
       "      <td>3</td>\n",
       "      <td>4</td>\n",
       "      <td>Beryllium</td>\n",
       "      <td>Be</td>\n",
       "      <td>9.012</td>\n",
       "      <td>5</td>\n",
       "      <td>4</td>\n",
       "      <td>4</td>\n",
       "      <td>2</td>\n",
       "      <td>2.0</td>\n",
       "      <td>...</td>\n",
       "      <td>1.85</td>\n",
       "      <td>1560.15</td>\n",
       "      <td>2742.0</td>\n",
       "      <td>6.0</td>\n",
       "      <td>Vaulquelin</td>\n",
       "      <td>1798.0</td>\n",
       "      <td>1.825</td>\n",
       "      <td>2</td>\n",
       "      <td>2.0</td>\n",
       "      <td>{'10.0': {'f1': -9999.0, 'f2': 0.398134}, '10....</td>\n",
       "    </tr>\n",
       "  </tbody>\n",
       "</table>\n",
       "<p>1 rows × 30 columns</p>\n",
       "</div>"
      ]
     },
     "execution_count": 18,
     "metadata": {},
     "output_type": "execute_result"
    }
   ],
   "execution_count": 18
  },
  {
   "metadata": {
    "ExecuteTime": {
     "end_time": "2025-10-09T16:13:02.648264Z",
     "start_time": "2025-10-09T16:13:02.644354Z"
    }
   },
   "cell_type": "code",
   "source": [
    "from utils import min_mse\n",
    "import json\n",
    "chi_string = row[\"Chi\"].item()\n",
    "chi_string = chi_string.replace(\"'\", '\"')\n",
    "dct = json.loads(chi_string)\n",
    "dict_values = [float(i) for i in dct]\n",
    "min_mse(12, dict_values)\n"
   ],
   "id": "2e7af5c2610ef5e2",
   "outputs": [
    {
     "data": {
      "text/plain": [
       "11.9303"
      ]
     },
     "execution_count": 46,
     "metadata": {},
     "output_type": "execute_result"
    }
   ],
   "execution_count": 46
  }
 ],
 "metadata": {
  "kernelspec": {
   "display_name": ".venv",
   "language": "python",
   "name": "python3"
  },
  "language_info": {
   "codemirror_mode": {
    "name": "ipython",
    "version": 3
   },
   "file_extension": ".py",
   "mimetype": "text/x-python",
   "name": "python",
   "nbconvert_exporter": "python",
   "pygments_lexer": "ipython3",
   "version": "3.13.7"
  }
 },
 "nbformat": 4,
 "nbformat_minor": 5
}
