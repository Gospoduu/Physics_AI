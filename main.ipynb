{
 "cells": [
  {
   "cell_type": "code",
   "execution_count": 3,
   "id": "fce93def",
   "metadata": {},
   "outputs": [],
   "source": [
    "import numpy as np\n",
    "import pandas as pd"
   ]
  },
  {
   "cell_type": "code",
   "execution_count": 4,
   "id": "0dcbfa7e",
   "metadata": {},
   "outputs": [],
   "source": [
    "# constants\n",
    "\n",
    "ALPHA = 1/137\n",
    "PI = np.pi"
   ]
  },
  {
   "cell_type": "code",
   "execution_count": 5,
   "id": "2c391f4d",
   "metadata": {},
   "outputs": [],
   "source": [
    "element = \"Be\""
   ]
  },
  {
   "cell_type": "code",
   "execution_count": 10,
   "id": "e5eee4e3",
   "metadata": {},
   "outputs": [
    {
     "data": {
      "text/plain": [
       "1.85"
      ]
     },
     "execution_count": 10,
     "metadata": {},
     "output_type": "execute_result"
    }
   ],
   "source": [
    "# data from element\n",
    "periodoc_table = pd.read_csv(r\"/Users/tema/PycharmProjects/Physics_AI/data/Periodic Table of Elements.csv\")\n",
    "\n",
    "row = periodoc_table[periodoc_table[\"Symbol\"] == element]\n",
    "row[\"Density\"].item()"
   ]
  },
  {
   "cell_type": "code",
   "execution_count": null,
   "id": "a64de580",
   "metadata": {},
   "outputs": [],
   "source": []
  }
 ],
 "metadata": {
  "kernelspec": {
   "display_name": ".venv",
   "language": "python",
   "name": "python3"
  },
  "language_info": {
   "codemirror_mode": {
    "name": "ipython",
    "version": 3
   },
   "file_extension": ".py",
   "mimetype": "text/x-python",
   "name": "python",
   "nbconvert_exporter": "python",
   "pygments_lexer": "ipython3",
   "version": "3.13.7"
  }
 },
 "nbformat": 4,
 "nbformat_minor": 5
}
