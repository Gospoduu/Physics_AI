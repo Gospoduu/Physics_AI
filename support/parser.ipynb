{
 "cells": [
  {
   "cell_type": "code",
   "id": "initial_id",
   "metadata": {
    "collapsed": true,
    "ExecuteTime": {
     "end_time": "2025-10-29T19:09:18.268939Z",
     "start_time": "2025-10-29T19:09:18.267216Z"
    }
   },
   "source": [
    "import requests\n",
    "import json\n",
    "from bs4 import BeautifulSoup"
   ],
   "outputs": [],
   "execution_count": 216
  },
  {
   "metadata": {
    "ExecuteTime": {
     "end_time": "2025-10-29T19:09:18.274153Z",
     "start_time": "2025-10-29T19:09:18.272233Z"
    }
   },
   "cell_type": "code",
   "source": [
    "st_accept = \"text/html\"\n",
    "st_useragent = \"Mozilla/5.0 (Macintosh; Intel Mac OS X 12_3_1) AppleWebKit/605.1.15 (KHTML, like Gecko) Version/15.4 Safari/605.1.15\"\n",
    "headers = {\n",
    "    \"Accept\": st_accept,\n",
    "    \"User-Agent\": st_useragent,\n",
    "}"
   ],
   "id": "d0892102514d55c",
   "outputs": [],
   "execution_count": 217
  },
  {
   "metadata": {
    "ExecuteTime": {
     "end_time": "2025-10-29T19:09:19.285258Z",
     "start_time": "2025-10-29T19:09:18.278230Z"
    }
   },
   "cell_type": "code",
   "source": [
    "req = requests.get(\"https://henke.lbl.gov/optical_constants/asf.html\", headers)\n",
    "src = req.text\n",
    "src"
   ],
   "id": "4f7f291919941f44",
   "outputs": [
    {
     "data": {
      "text/plain": [
       "'<HTML>\\n<HEAD><TITLE>Atomic Scattering Factors</TITLE></HEAD>\\n<BODY BGCOLOR=\"#FFFFFF\">\\n\\n<img src=\"/icons/LBNL.gif\" align=right width=104 height=69 alt=\"LBNL\">\\n<h1>The Atomic Scattering Factors</h1>\\n<br clear=all>\\n<CENTER>\\n<hr width=\"100%\" color=\"blue\" />\\n\\n<table Border=0 cellpadding=5 cellspacing=0 width=90%> <tr>\\n<td><a HREF=\"sf/h.nff\">\\nH</a></td>\\n <td></td>\\n <td></td>\\n <td></td>\\n <td></td>\\n <td></td>\\n <td></td>\\n <td></td>\\n <td></td>\\n <td></td>\\n <td></td>\\n <td></td>\\n <td></td>\\n <td></td>\\n <td></td>\\n <td></td>\\n <td></td>\\n <td><a HREF=\"sf/he.nff\">\\nHe</a></td>\\n </tr><tr>\\n <td><a HREF=\"sf/li.nff\">\\nLi*</a></td>\\n <td><a HREF=\"sf/be.nff\">\\nBe*</a></td>\\n <td></td>\\n <td></td>\\n <td></td>\\n <td></td>\\n <td></td>\\n <td></td>\\n <td></td>\\n <td></td>\\n <td></td>\\n <td></td>\\n <td><a HREF=\"sf/b.nff\">\\nB</a></td>\\n <td><a HREF=\"sf/c.nff\">\\nC</a></td>\\n <td><a HREF=\"sf/n.nff\">\\nN</a></td>\\n<td><a HREF=\"sf/o.nff\">\\nO</a></td>\\n <td><a HREF=\"sf/f.nff\">\\nF</a></td>\\n <td><a HREF=\"sf/ne.nff\">\\nNe</a></td>\\n </tr><tr>\\n <td><a HREF=\"sf/na.nff\">\\nNa</a></td>\\n <td><a HREF=\"sf/mg.nff\">\\nMg*</a></td>\\n <td></td>\\n <td></td>\\n <td></td>\\n <td></td>\\n <td></td>\\n <td></td>\\n <td></td>\\n <td></td>\\n <td></td>\\n <td></td>\\n <td><a HREF=\"sf/al.nff\">\\nAl*</a></td>\\n <td><a HREF=\"sf/si.nff\">\\nSi*</a></td>\\n <td><a HREF=\"sf/p.nff\">\\nP</a></td>\\n <td><a HREF=\"sf/s.nff\">\\nS</a></td>\\n <td><a HREF=\"sf/cl.nff\">\\nCl</a></td>\\n <td><a HREF=\"sf/ar.nff\">\\nAr</a></td>\\n </tr><tr>\\n <td><a HREF=\"sf/k.nff\">\\nK</a></td>\\n <td><a HREF=\"sf/ca.nff\">\\nCa</a></td>\\n <td><a HREF=\"sf/sc.nff\">\\nSc*</a></td>\\n <td><a HREF=\"sf/ti.nff\">\\nTi*</a></td>\\n <td><a HREF=\"sf/v.nff\">\\nV</a></td>\\n <td><a HREF=\"sf/cr.nff\">\\nCr*</a></td>\\n <td><a HREF=\"sf/mn.nff\">\\nMn</a></td>\\n <td><a HREF=\"sf/fe.nff\">\\nFe*</a></td>\\n <td><a HREF=\"sf/co.nff\">\\nCo</a></td>\\n <td><a HREF=\"sf/ni.nff\">\\nNi</a></td>\\n <td><a HREF=\"sf/cu.nff\">\\nCu</a></td>\\n <td><a HREF=\"sf/zn.nff\">\\nZn</a></td>\\n <td><a HREF=\"sf/ga.nff\">\\nGa</a></td>\\n <td><a HREF=\"sf/ge.nff\">\\nGe</a></td>\\n <td><a HREF=\"sf/as.nff\">\\nAs</a></td>\\n <td><a HREF=\"sf/se.nff\">\\nSe</a></td>\\n <td><a HREF=\"sf/br.nff\">\\nBr</a></td>\\n <td><a HREF=\"sf/kr.nff\">\\nKr</a></td>\\n </tr><tr>\\n <td><a HREF=\"sf/rb.nff\">\\nRb</a></td>\\n <td><a HREF=\"sf/sr.nff\">\\nSr</a></td>\\n <td><a HREF=\"sf/y.nff\">\\nY*</a></td>\\n <td><a HREF=\"sf/zr.nff\">\\nZr*</a></td>\\n <td><a HREF=\"sf/nb.nff\">\\n Nb*</a></td>\\n <td><a HREF=\"sf/mo.nff\">\\nMo*</a></td>\\n <td><a HREF=\"sf/tc.nff\">\\nTc</a></td>\\n <td><a HREF=\"sf/ru.nff\">\\nRu*</a></td>\\n <td><a HREF=\"sf/rh.nff\">\\nRh</a></td>\\n <td><a HREF=\"sf/pd.nff\">\\nPd</a></td>\\n <td><a HREF=\"sf/ag.nff\">\\nAg</a></td>\\n <td><a HREF=\"sf/cd.nff\">\\nCd</a></td>\\n <td><a HREF=\"sf/in.nff\">\\nIn</a></td>\\n <td><a HREF=\"sf/sn.nff\">\\nSn</a></td>\\n <td><a HREF=\"sf/sb.nff\">\\nSb</a></td>\\n <td><a HREF=\"sf/te.nff\">\\nTe</a></td>\\n <td><a HREF=\"sf/i.nff\">\\nI</a></td>\\n <td><a HREF=\"sf/xe.nff\">\\nXe</a></td>\\n </tr><tr>\\n <td><a HREF=\"sf/cs.nff\">\\nCs</a></td>\\n <td><a HREF=\"sf/ba.nff\">\\nBa</a></td>\\n <td><a HREF=\"sf/la.nff\">\\nLa*</a></td>\\n <td><a HREF=\"sf/hf.nff\">\\nHf</a></td>\\n <td><a HREF=\"sf/ta.nff\">\\nTa*</a></td>\\n <td><a HREF=\"sf/w.nff\">\\nW*</a></td>\\n <td><a HREF=\"sf/re.nff\">\\nRe</a></td>\\n <td><a HREF=\"sf/os.nff\">\\nOs</a></td>\\n <td><a HREF=\"sf/ir.nff\">\\nIr</a></td>\\n <td><a HREF=\"sf/pt.nff\">\\nPt*</a></td>\\n <td><a HREF=\"sf/au.nff\">\\nAu*</a></td>\\n <td><a HREF=\"sf/hg.nff\">\\nHg</a></td>\\n <td><a HREF=\"sf/tl.nff\">\\nTl</a></td>\\n <td><a HREF=\"sf/pb.nff\">\\nPb</a></td>\\n <td><a HREF=\"sf/bi.nff\">\\nBi</a></td>\\n <td><a HREF=\"sf/po.nff\">\\nPo</a></td>\\n <td><a HREF=\"sf/at.nff\">\\nAt</a></td>\\n <td><a HREF=\"sf/rn.nff\">\\nRn</a></td>\\n </tr><tr>\\n <td><a HREF=\"sf/fr.nff\">\\nFr</a></td>\\n <td><a HREF=\"sf/ra.nff\">\\nRa</a></td>\\n <td><a HREF=\"sf/ac.nff\">\\nAc</a></td>\\n </tr></table>\\n<table Border=0 cellpadding=5 cellspacing=0 width=50%> <tr>\\n <td><a HREF=\"sf/ce.nff\">\\nCe</a></td>\\n <td><a HREF=\"sf/pr.nff\">\\nPr</a></td>\\n <td><a HREF=\"sf/nd.nff\">\\nNd</a></td>\\n <td><a HREF=\"sf/pm.nff\">\\nPm</a></td>\\n <td><a HREF=\"sf/sm.nff\">\\nSm</a></td>\\n <td><a HREF=\"sf/eu.nff\">\\nEu</a></td>\\n <td><a HREF=\"sf/gd.nff\">\\nGd*</a></td>\\n <td><a HREF=\"sf/tb.nff\">\\nTb</a></td>\\n <td><a HREF=\"sf/dy.nff\">\\nDy</a></td>\\n <td><a HREF=\"sf/ho.nff\">\\nHo</a></td>\\n <td><a HREF=\"sf/er.nff\">\\nEr*</a></td>\\n <td><a HREF=\"sf/tm.nff\">\\nTm</a></td>\\n <td><a HREF=\"sf/yb.nff\">\\nYb</a></td>\\n <td><a HREF=\"sf/lu.nff\">\\nLu</a></td>\\n </tr><tr>\\n <td><a HREF=\"sf/th.nff\">\\nTh</a></td>\\n <td><a HREF=\"sf/pa.nff\">\\nPa</a></td>\\n <td><a HREF=\"sf/u.nff\">\\nU</a></td>\\n </tr></table>\\n</CENTER>\\n<br clear=all>\\n<dl>\\n\\t<dt>Download the <A HREF=\"sf.tar.gz\">current files</a> for all 92 elements.</dt>\\n\\t<dt>Download the <A HREF=\"henke94.tar.gz\">1994 files</a>.</dt>\\n</dl>\\n<h2>* Updates </h2>\\n<table border cellpadding=5 cellspacing=0 width=100%> <tr>\\n<th> Element </th>\\n<th> Region (eV) </th>\\n<th> Date </th>\\n<th> Reference </th>\\n</tr> <tr>\\n<td> Pt </td>\\n<td> 0.1-800 </td>\\n<td> Aug 2023 </td>\\n<td> Regina Soufli, Franck Delmotte, Julia Meyer-Ilse, Farhad Salmassi, Nicolai Brejnholt, Sonny Massahi, David Girou, Finn Christensen, Eric Gullikson, J. Appl. Phys. <b>125</b>, 085106 (2019). <a href=\"https://doi.org/10.1063/1.5067366\">https://doi.org/10.1063/1.5067366</a>\\n</td>\\n</tr> <tr>\\n<td> Cr </td>\\n<td> 0.4-813 </td>\\n<td> Aug 2023 </td>\\n<td> Franck Delmotte, Julia Meyer-Ilse, Farhad Salmassi, Regina Soufli, Catherine Burcklen, Jennifer Rebellato, Arnaud Jerome, Ian Vickridge, Emrick Briand, Eric Gullikson, J. Appl. Phys. <b>124</b>, 035107 (2018). <a href=\"https://doi.org/10.1063/1.5027488\">https://doi.org/10.1063/1.5027488</a>\\n</td>\\n</tr> <tr>\\n<td> Nb </td>\\n<td> 10-1000 </td>\\n<td> Aug 2023 </td>\\n<td> Updated values based on transmission measurements performed at ALS beamline 6.3.2.</td>\\n</tr> <tr>\\n<td> Y </td>\\n<td> 50-1300 </td>\\n<td> Aug 2023 </td>\\n<td> Benjawan Sae-Lao and Regina Soufli.\\n<em>Measurements of the refractive index of yttrium in the 50-1300-eV region.</em>\\nApplied Optics <b>41</b>, 7309 (Dec 2002).\\n<a href=\"https://doi.org/10.1364/AO.41.007309\">https://doi.org/10.1364/AO.41.007309</a>\\n</td>\\n</tr> <tr>\\n<td> Er </td>\\n<td> 3-1580</td>\\n<td> Aug 2023 </td>\\n<td> Juan Larruquert et al.\\n<em>Transmittance and optical constants of erbium films in the 3.25 - 1580 eV spectral range.</em>\\nApplied Optics <b>50</b>, 2211 (May 2011).\\n<a href=\"https://doi.org/10.1364/AO.50.002211\">https://doi.org/10.1364/AO.50.002211</a>\\n</td>\\n</tr> <tr>\\n<td> Mg </td>\\n<td> 10-1300 </td>\\n<td> Jan 2011 </td>\\n<td> \\nManuela Vidal-Dasilva, Andrew L. Aquila, Eric M. Gullikson, Farhad Salmassi, Juan I. Larruquert. \\n<em>Optical constants of magnetron-sputtered magnesium films in the 25-1300 eV energy range.</em>\\nJ. Appl. Phys. <b>108</b>, 063517 (2010).\\n<a href=\"https://doi.org/10.1063/1.3481457\">https://doi.org/10.1063/1.3481457</a>\\n</td>\\n</tr> <tr>\\n<td> Zr </td>\\n<td> 20-1000</td>\\n<td> April 2010 </td>\\n<td> Updated values based on transmission measurements performed at ALS beamline 6.3.2.</td>\\n</tr> <tr>\\n<td> Ta </td>\\n<td> 20-1000</td>\\n<td> 2009 </td>\\n<td> Updated values based on transmission measurements performed at ALS beamline 6.3.2.</td>\\n</tr> <tr>\\n<td> La </td>\\n<td> 14-440</td>\\n<td> June 2007 </td>\\n<td> J.F. Seely, Yu.A. Uspenskii, B. Kjornrattanawanich and D.L. Windt.\\n<em>Coated Photodiode Technique for the Determination of the Optical Constants of Reactive Elements: La and Tb.</em>\\nSPIE Proceedings <b>6317</b>, OT (August 2006).\\n<a href=\"https://doi.org/10.1117/12.683234\">https://doi.org/10.1117/12.683234</a>\\n</td>\\n</tr> <tr>\\n<td> Gd </td>\\n<td> 12-450</td>\\n<td> June 2007 </td>\\n<td> B. Kjornrattanawanich, D.L. Windt, Yu.A. Uspenskii, and J.F. Seely.\\n<em>Optical Constants Determination of Neodymiun and Gadolinium in the 3 nm to 100 nm wavelength range.</em>\\nSPIE Proceedings <b>6317</b>, OU (August 2006).\\n<a href=\"https://doi.org/10.1117/12.681952\">https://doi.org/10.1117/12.681952</a>\\n</td>\\n</tr> <tr>\\n<td> Sc </td>\\n<td> 50-1300</td>\\n<td> April 2006 </td>\\n<td> A.L. Aquila, F. Salmassi, E.M. Gullikson, F. Eriksson, J. Birch.\\n<em>Measurements of the Optical Constants of Scandium in the 50-1300eV Range.</em>\\nSPIE Proceedings <b>5538</b>, 64 (July 2004).\\n<a href=\"https://doi.org/10.1117/12.563615\">https://doi.org/10.1117/12.563615</a>\\n</td>\\n</tr> <tr>\\n<td> Sc </td>\\n<td> 20-70</td>\\n<td> April 2006 </td>\\n<td> Yu.A. Uspenskii, J.F. Seely, N.I. Popov, A.V. Vinogradov, Yu.P. Pershin\\nV.V. Kondratenko.\\n<em>Efficient method for the determination of extreme ultraviolet \\noptical constants in reactive materials: application to scandium and titanium.</em>\\nJ. Opt. Soc. Am. A <b>21</b>, 298 (2004).\\n<a href=\"https://doi.org/10.1364/JOSAA.21.000298\">https://doi.org/10.1364/JOSAA.21.000298</a>\\n</td>\\n</tr> <tr>\\n<td> Ti </td>\\n<td> 20-150</td>\\n<td> Aug 2004 </td>\\n<td> Yu.A. Uspenskii, J.F. Seely, N.I. Popov, A.V. Vinogradov, Yu.P. Pershin\\nV.V. Kondratenko.\\n<em>Efficient method for the determination of extreme ultraviolet \\noptical constants in reactive materials: application to scandium\\nand titanium.</em>\\nJ. Opt. Soc. Am. A <b>21</b>, 298 (2004).\\n<a href=\"https://doi.org/10.1364/JOSAA.21.000298\">https://doi.org/10.1364/JOSAA.21.000298</a>\\n</td>\\n</tr> <tr>\\n<td> Ru </td>\\n<td> 40-1300</td>\\n<td> Aug 2004 </td>\\n<td> U. Schlegel.\\n<em>Determination of the optical constants of Ruthenium\\nin the EUV and soft x-ray region using synchrotron radiation.</em>\\nDiploma thesis, Technische Fachhochschule Berlin (May 2000).\\n</td>\\n</tr> <tr>\\n<td> W </td>\\n<td> 35-150</td>\\n<td> Aug 2004 </td>\\n<td> C. Tarrio, R. N. Watts, T.B. Lucatorto, J.M. Slaughter, C.M. Falco. \\n<em>Optical constants of in situ-deposited films of important\\nextreme-ultraviolet multilayer mirror materials.</em>\\nApplied Optics <b>37</b>, 4100 (1998).\\n<a href=\"https://doi.org/10.1364/AO.37.004100\">https://doi.org/10.1364/AO.37.004100</a>\\n</td>\\n</tr> <tr>\\n<td> Mo </td>\\n<td> 25-60</td>\\n<td> Aug 2004 </td>\\n<td> C. Tarrio, R. N. Watts, T.B. Lucatorto, J.M. Slaughter, C.M. Falco. \\n<em>Optical constants of in situ-deposited films of important\\nextreme-ultraviolet multilayer mirror materials.</em>\\nApplied Optics <b>37</b>, 4100 (1998).\\n<a href=\"https://doi.org/10.1364/AO.37.004100\">https://doi.org/10.1364/AO.37.004100</a>\\n</td>\\n</tr> <tr>\\n<td> Be </td>\\n<td> 40-250</td>\\n<td> Aug 2004 </td>\\n<td> R. Soufli, S. Bajt and E.M. Gullikson. \\n<em>Optical constants of beryllium from photoabsorption \\nmeasurements for X-ray optics applications.</em>\\nSPIE Proceedings <b>3767</b>, 251-8 (1999).\\n<a href=\"https://doi.org/10.1117/12.371124\">https://doi.org/10.1117/12.371124</a>\\n</td>\\n</tr> <tr>\\n<td> Mo </td>\\n<td> 10-930</td>\\n<td> Nov 1997 </td>\\n<td> R. Soufli and E. M. Gullikson. \\n<em>Absolute photoabsorption measurements of molybdenum in the range\\n60 to 930 eV for optical constant determination.</em>\\nApplied Optics <b>37</b>, 1713-1719 (1998).\\n<a href=\"https://doi.org/10.1364/AO.37.001713\">https://doi.org/10.1364/AO.37.001713</a>\\n</td>\\n</tr> <tr>\\n<td> Fe </td>\\n<td> 600-800 </td>\\n<td> Oct 1995 </td>\\n<td> Revised data in the vicinity of the L edge.</td>\\n</tr> <tr>\\n<td> Si </td>\\n<td> 30-500</td>\\n<td> June 1995 </td>\\n<td> R. Soufli and E. M. Gullikson.  <em>Reflectance measurements \\non clean surfaces for the determination of optical constants of\\nsilicon in the EUV/soft x-ray region.</em>\\nApplied Optics <b>36</b>, 5499-5507 (1997).\\n<a href=\"https://doi.org/10.1364/AO.36.005499\">https://doi.org/10.1364/AO.36.005499</a>\\n</td>\\n</tr> <tr>\\n<td> Au </td>\\n<td> 2000-6500</td>\\n<td> July 1994 </td>\\n<td>  C. S. Nelson, T. H. Markert, Y. S. Song, H. L. Marshall,\\nM. L. Schattenburg, D. E. Graessle, K. A. Flanagan, R. L. Blake,\\nJ. Bauer, E. M. Gullikson.\\n<em>Efficiency measurements and modeling of the Advanced X-ray\\nAstrophysics Facility (AXAF) high-energy transmission gratings.</em>\\nProceedings of the SPIE Vol. <b>2280</b>, 191-203 (July 1994).\\n<a href=\"https://doi.org/10.1117/12.186811\">https://doi.org/10.1117/12.186811</a>\\n</td>\\n</tr> <tr>\\n<td> Mg, Al, Si </td>\\n<td> 30-200</td>\\n<td> Jan 1994 </td>\\n<td>E. M. Gullikson, P. Denham, S. Mrowka, J. H. Underwood,\\n     \"<em>Absolute photoabsorption measurements of Mg, Al, and Si\\n      in the soft-X-ray region below the L2,3 edges</em>\",\\n      Physical Review B <b>49</b>, 16283-8 (15 June 1994).\\n<a href=\"https://doi.org/10.1103/PhysRevB.49.16283\">https://doi.org/10.1103/PhysRevB.49.16283</a>\\n</td>\\n</tr> <tr>\\n<td> Li </td>\\n<td> 2000-30000</td>\\n<td> Nov 1994 </td>\\n<td> Corrected data above 2000 eV for Compton cross section. </td>\\n</tr>\\n</table>\\n\\n<h2> <a name=\"download\">Download the data files</a></h2>\\nTab delimited ASCII data files for the individual elements are available\\nfrom the periodic table above.\\nThe files contain three columns of data:\\nEnergy(eV), f<SUB>1</SUB>, f<SUB>2</SUB>.\\nThere are 500+ points on a uniform logarithmic mesh from 10 to 30,000 eV\\nwith points added 0.1 eV above and below <em>sharp</em> absorption edges.\\nNote that the revised values of f<SUB>1</SUB> will have changed over\\na somewhat larger energy region in the vicinity of sharp edges.\\nFor some elements data on a finer mesh includes structure \\naround absorption edges.\\n(Below 29 eV f<SUB>1</SUB> is set equal to -9999.)\\n\\n</body>\\n</HTML>\\n\\n'"
      ]
     },
     "execution_count": 218,
     "metadata": {},
     "output_type": "execute_result"
    }
   ],
   "execution_count": 218
  },
  {
   "metadata": {
    "ExecuteTime": {
     "end_time": "2025-10-29T19:09:19.304598Z",
     "start_time": "2025-10-29T19:09:19.297285Z"
    }
   },
   "cell_type": "code",
   "source": [
    "import sys\n",
    "print(sys.executable)\n",
    "\n",
    "soup = BeautifulSoup(src, \"lxml\")\n",
    "soup.h2.string"
   ],
   "id": "4babdcf247b09cc4",
   "outputs": [
    {
     "name": "stdout",
     "output_type": "stream",
     "text": [
      "/Users/tema/Desktop/PythonProjects/Physics_AI/.venv/bin/python\n"
     ]
    },
    {
     "data": {
      "text/plain": [
       "'* Updates '"
      ]
     },
     "execution_count": 219,
     "metadata": {},
     "output_type": "execute_result"
    }
   ],
   "execution_count": 219
  },
  {
   "metadata": {
    "ExecuteTime": {
     "end_time": "2025-10-29T19:09:19.307858Z",
     "start_time": "2025-10-29T19:09:19.306489Z"
    }
   },
   "cell_type": "code",
   "source": "center = soup.center",
   "id": "4ca1a73b7af54436",
   "outputs": [],
   "execution_count": 220
  },
  {
   "metadata": {
    "ExecuteTime": {
     "end_time": "2025-10-29T19:09:19.311460Z",
     "start_time": "2025-10-29T19:09:19.310132Z"
    }
   },
   "cell_type": "code",
   "source": "data = center.find_all(\"td\")",
   "id": "4a9010dce0611e09",
   "outputs": [],
   "execution_count": 221
  },
  {
   "metadata": {
    "ExecuteTime": {
     "end_time": "2025-10-29T19:09:19.314546Z",
     "start_time": "2025-10-29T19:09:19.312672Z"
    }
   },
   "cell_type": "code",
   "source": [
    "parsed_data = {}\n",
    "for e in data:\n",
    "    if e.string:\n",
    "        link = e.find(\"a\").get(\"href\")\n",
    "        el = e.string.replace(\"\\n\", \"\").replace(\"*\", \"\")\n",
    "        parsed_data[el] = link"
   ],
   "id": "95bee62fc2104eb7",
   "outputs": [],
   "execution_count": 222
  },
  {
   "metadata": {
    "ExecuteTime": {
     "end_time": "2025-10-29T19:13:47.736539Z",
     "start_time": "2025-10-29T19:12:58.293680Z"
    }
   },
   "cell_type": "code",
   "source": [
    "base = \"https://henke.lbl.gov/optical_constants/\"\n",
    "for i in parsed_data:\n",
    "    req = requests.get(base + parsed_data[i], headers)\n",
    "    src = req.text\n",
    "    soup = BeautifulSoup(src, \"lxml\")\n",
    "    txt = soup.string\n",
    "    # print(txt)\n",
    "    el_dict = {}\n",
    "    num_st = 0\n",
    "    broken = []\n",
    "    for s in txt.split(\"\\n\"):\n",
    "        s = s.strip()\n",
    "        try:\n",
    "            EeV, f1, f2 = map(float,s.split())\n",
    "            el_dict[str(EeV)] = {\"f1\": f1, \"f2\": f2}\n",
    "        except ValueError as e:\n",
    "            broken.append(s)\n",
    "            continue\n",
    "\n",
    "    json.dump(el_dict, open(f\"../data/chi/{i.lower()}\"\n",
    "                            f\".json\", \"w\"))\n",
    "    print(f\"{i} - was added, broken in {broken}\")"
   ],
   "id": "19d2f5d48c943f2d",
   "outputs": [
    {
     "name": "stdout",
     "output_type": "stream",
     "text": [
      "H - was added, broken in ['E(eV)\\tf1\\tf2', '']\n",
      "He - was added, broken in ['E(eV)\\tf1\\tf2', '']\n",
      "Li - was added, broken in ['E(eV)\\tf1\\tf2', '']\n",
      "Be - was added, broken in ['E(eV)\\tf1\\tf2', '']\n",
      "B - was added, broken in ['E(eV)\\tf1\\tf2', '']\n",
      "C - was added, broken in ['E(eV)\\tf1\\tf2', '']\n",
      "N - was added, broken in ['E(eV)\\tf1\\tf2', '']\n",
      "O - was added, broken in ['E(eV)\\tf1\\tf2', '']\n",
      "F - was added, broken in ['E(eV)\\tf1\\tf2', '']\n",
      "Ne - was added, broken in ['E(eV)\\tf1\\tf2', '']\n",
      "Na - was added, broken in ['E(eV)\\tf1\\tf2', '']\n",
      "Mg - was added, broken in ['mg, Z=12, (Energy (eV),f1,f2)', '']\n",
      "Al - was added, broken in ['E(eV)\\tf1\\tf2', '']\n",
      "Si - was added, broken in ['E(eV)\\tf1\\tf2', '']\n",
      "P - was added, broken in ['E(eV)\\tf1\\tf2', '']\n",
      "S - was added, broken in ['E(eV)\\tf1\\tf2', '']\n",
      "Cl - was added, broken in ['E(eV)\\tf1\\tf2', '']\n",
      "Ar - was added, broken in ['E(eV)\\tf1\\tf2', '']\n",
      "K - was added, broken in ['E(eV)\\tf1\\tf2', '']\n",
      "Ca - was added, broken in ['E(eV)\\tf1\\tf2', '']\n",
      "Sc - was added, broken in ['E(eV)\\tf1\\tf2', '']\n",
      "Ti - was added, broken in ['E(eV)\\tf1\\tf2', '']\n",
      "V - was added, broken in ['E(eV)\\tf1\\tf2', '']\n",
      "Cr - was added, broken in ['# Cr from F. Delmotte et al, J. Appl. Phys. 124, 035107 (2018).', '']\n",
      "Mn - was added, broken in ['E(eV)\\tf1\\tf2', '']\n",
      "Fe - was added, broken in ['E(eV)\\tf1\\tf2', '']\n",
      "Co - was added, broken in ['E(eV)\\tf1\\tf2', '']\n",
      "Ni - was added, broken in ['E(eV)\\tf1\\tf2', '']\n",
      "Cu - was added, broken in ['E(eV)\\tf1\\tf2', '']\n",
      "Zn - was added, broken in ['E(eV)\\tf1\\tf2', '']\n",
      "Ga - was added, broken in ['E(eV)\\tf1\\tf2', '']\n",
      "Ge - was added, broken in ['E(eV)\\tf1\\tf2', '']\n",
      "As - was added, broken in ['E(eV)\\tf1\\tf2', '']\n",
      "Se - was added, broken in ['E(eV)\\tf1\\tf2', '']\n",
      "Br - was added, broken in ['E(eV)\\tf1\\tf2', '']\n",
      "Kr - was added, broken in ['E(eV)\\tf1\\tf2', '']\n",
      "Rb - was added, broken in ['E(eV)\\tf1\\tf2', '']\n",
      "Sr - was added, broken in ['E(eV)\\tf1\\tf2', '']\n",
      "Y - was added, broken in ['y , Z=39, (Energy (eV),f1,f2)', '']\n",
      "Zr - was added, broken in ['E(eV)\\tf1\\tf2', '']\n",
      " Nb - was added, broken in ['nb, Z=41, updated in 2023 based on ALS transmission measurements', '']\n",
      "Mo - was added, broken in ['E(eV)\\tf1\\tf2', '']\n",
      "Tc - was added, broken in ['E(eV)\\tf1\\tf2', '']\n",
      "Ru - was added, broken in ['E(eV)\\tf1\\tf2', '']\n",
      "Rh - was added, broken in ['E(eV)\\tf1\\tf2', '']\n",
      "Pd - was added, broken in ['E(eV)\\tf1\\tf2', '']\n",
      "Ag - was added, broken in ['E(eV)\\tf1\\tf2', '']\n",
      "Cd - was added, broken in ['E(eV)\\tf1\\tf2', '']\n",
      "In - was added, broken in ['E(eV)\\tf1\\tf2', '']\n",
      "Sn - was added, broken in ['E(eV)\\tf1\\tf2', '']\n",
      "Sb - was added, broken in ['E(eV)\\tf1\\tf2', '']\n",
      "Te - was added, broken in ['E(eV)\\tf1\\tf2', '']\n",
      "I - was added, broken in ['E(eV)\\tf1\\tf2', '']\n",
      "Xe - was added, broken in ['E(eV)\\tf1\\tf2', '']\n",
      "Cs - was added, broken in ['E(eV)\\tf1\\tf2', '']\n",
      "Ba - was added, broken in ['E(eV)\\tf1\\tf2', '']\n",
      "La - was added, broken in ['E(eV)\\tf1\\tf2', '']\n",
      "Hf - was added, broken in ['E(eV)\\tf1\\tf2', '']\n",
      "Ta - was added, broken in ['ta, Z=73, updated with ALS measurements from 2008', '']\n",
      "W - was added, broken in ['E(eV)\\tf1\\tf2', '']\n",
      "Re - was added, broken in ['E(eV)\\tf1\\tf2', '']\n",
      "Os - was added, broken in ['E(eV)\\tf1\\tf2', '']\n",
      "Ir - was added, broken in ['E(eV)\\tf1\\tf2', '']\n",
      "Pt - was added, broken in ['# Pt from R. Soufli et al, J. Appl. Phys. 125, 085106 (2019).', '']\n",
      "Au - was added, broken in ['E(eV)\\tf1\\tf2', '']\n",
      "Hg - was added, broken in ['E(eV)\\tf1\\tf2', '']\n",
      "Tl - was added, broken in ['E(eV)\\tf1\\tf2', '']\n",
      "Pb - was added, broken in ['E(eV)\\tf1\\tf2', '']\n",
      "Bi - was added, broken in ['E(eV)\\tf1\\tf2', '']\n",
      "Po - was added, broken in ['E(eV)\\tf1\\tf2', '']\n",
      "At - was added, broken in ['E(eV)\\tf1\\tf2', '']\n",
      "Rn - was added, broken in ['E(eV)\\tf1\\tf2', '']\n",
      "Fr - was added, broken in ['E(eV)\\tf1\\tf2', '']\n",
      "Ra - was added, broken in ['E(eV)\\tf1\\tf2', '']\n",
      "Ac - was added, broken in ['E(eV)\\tf1\\tf2', '']\n",
      "Ce - was added, broken in ['E(eV)\\tf1\\tf2', '']\n",
      "Pr - was added, broken in ['E(eV)\\tf1\\tf2', '']\n",
      "Nd - was added, broken in ['E(eV)\\tf1\\tf2', '']\n",
      "Pm - was added, broken in ['E(eV)\\tf1\\tf2', '']\n",
      "Sm - was added, broken in ['E(eV)\\tf1\\tf2', '']\n",
      "Eu - was added, broken in ['E(eV)\\tf1\\tf2', '']\n",
      "Gd - was added, broken in ['E(eV)\\tf1\\tf2', '']\n",
      "Tb - was added, broken in ['E(eV)\\tf1\\tf2', '']\n",
      "Dy - was added, broken in ['E(eV)\\tf1\\tf2', '']\n",
      "Ho - was added, broken in ['E(eV)\\tf1\\tf2', '']\n",
      "Er - was added, broken in ['er, updated with J. Larruquert et al, Appl. Opt. 50, 2211 (2011).', '']\n",
      "Tm - was added, broken in ['E(eV)\\tf1\\tf2', '']\n",
      "Yb - was added, broken in ['E(eV)\\tf1\\tf2', '']\n",
      "Lu - was added, broken in ['E(eV)\\tf1\\tf2', '']\n",
      "Th - was added, broken in ['E(eV)\\tf1\\tf2', '']\n",
      "Pa - was added, broken in ['E(eV)\\tf1\\tf2', '']\n",
      "U - was added, broken in ['E(eV)\\tf1\\tf2', '']\n"
     ]
    }
   ],
   "execution_count": 225
  },
  {
   "metadata": {
    "ExecuteTime": {
     "end_time": "2025-10-29T19:10:01.044282Z",
     "start_time": "2025-10-29T19:10:01.042983Z"
    }
   },
   "cell_type": "code",
   "source": "",
   "id": "56e829ceb1b34293",
   "outputs": [],
   "execution_count": null
  }
 ],
 "metadata": {
  "kernelspec": {
   "display_name": "Python 3",
   "language": "python",
   "name": "python3"
  },
  "language_info": {
   "codemirror_mode": {
    "name": "ipython",
    "version": 2
   },
   "file_extension": ".py",
   "mimetype": "text/x-python",
   "name": "python",
   "nbconvert_exporter": "python",
   "pygments_lexer": "ipython2",
   "version": "2.7.6"
  }
 },
 "nbformat": 4,
 "nbformat_minor": 5
}
